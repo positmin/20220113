{
  "cells": [
    {
      "cell_type": "markdown",
      "metadata": {
        "id": "view-in-github",
        "colab_type": "text"
      },
      "source": [
        "<a href=\"https://colab.research.google.com/github/positmin/20220113/blob/main/00_1_word_embedding_basic_20221024.ipynb\" target=\"_parent\"><img src=\"https://colab.research.google.com/assets/colab-badge.svg\" alt=\"Open In Colab\"/></a>"
      ]
    },
    {
      "cell_type": "code",
      "execution_count": null,
      "metadata": {
        "id": "NZccuM9fl2Xq"
      },
      "outputs": [],
      "source": [
        "## 20221024 10:10"
      ]
    },
    {
      "cell_type": "code",
      "execution_count": 1,
      "metadata": {
        "id": "qKfY377LksJM"
      },
      "outputs": [],
      "source": [
        "from tensorflow.keras.datasets import cifar10 # cifar 100까지 있음\n",
        "from tensorflow.keras.models import Sequential\n",
        "from tensorflow.keras.layers import Dense, Dropout, Activation, Flatten\n",
        "from tensorflow.keras.layers import Conv2D, MaxPooling2D\n",
        "from tensorflow.keras.optimizers import SGD, Adam, RMSprop\n",
        "from tensorflow.keras.utils import to_categorical\n",
        "import matplotlib.pyplot as plt"
      ]
    },
    {
      "cell_type": "code",
      "execution_count": 2,
      "metadata": {
        "id": "_D9PMsj8lLZ8"
      },
      "outputs": [],
      "source": [
        "## 10:42\n",
        "IMG_CHANNELS = 3 # 컬러사이즈 : parameter cnn은 채널 별로 filter를 적용 ## 채널 수만큼 파라미터가 늘어남\n",
        "IMG_ROWS = 32 # 이미지 사이즈는 32x32\n",
        "IMG_COLS = 32\n",
        "BATCH_SIZE = 128\n",
        "NB_EPOCH = 20\n",
        "NB_CLASSES = 10\n",
        "VERBOSE = 1\n",
        "VALIDATION_SPLIT = 0.2\n",
        "OPTIM = RMSprop()"
      ]
    },
    {
      "cell_type": "code",
      "execution_count": 3,
      "metadata": {
        "colab": {
          "base_uri": "https://localhost:8080/"
        },
        "id": "xvqXutdfleB-",
        "outputId": "1db8d11c-1bde-4df9-aa60-afe373039e33"
      },
      "outputs": [
        {
          "output_type": "stream",
          "name": "stdout",
          "text": [
            "Downloading data from https://www.cs.toronto.edu/~kriz/cifar-10-python.tar.gz\n",
            "170498071/170498071 [==============================] - 14s 0us/step\n",
            "X_train shape: (50000, 32, 32, 3)\n",
            "50000 train samples\n",
            "10000 test samples\n"
          ]
        }
      ],
      "source": [
        "(X_train, Y_train), (X_test, Y_test) = cifar10.load_data()\n",
        "print('X_train shape:', X_train.shape)\n",
        "print(X_train.shape[0], 'train samples')\n",
        "print(X_test.shape[0], 'test samples')"
      ]
    },
    {
      "cell_type": "code",
      "execution_count": 4,
      "metadata": {
        "id": "opCZ0Ifnl0Pe"
      },
      "outputs": [],
      "source": [
        "# 범주가 2개인 경우\n",
        "# binary : target이 1개 예측\n",
        "# categorical : 2개로 예측\n",
        "# 신경망에서는 반드시 target은 one-hot-encoding 해줘야 한다\n",
        "Y_train = to_categorical(Y_train, NB_CLASSES)\n",
        "Y_test = to_categorical(Y_test, NB_CLASSES)\n",
        "X_train = X_train.astype('float32')\n",
        "X_test = X_test.astype('float32')\n",
        "X_train /= 255\n",
        "X_test /= 255"
      ]
    },
    {
      "cell_type": "code",
      "execution_count": 5,
      "metadata": {
        "colab": {
          "base_uri": "https://localhost:8080/",
          "height": 515
        },
        "id": "QawrrqSSm-b7",
        "outputId": "c11338ff-10ba-4a63-b932-7ae28dd39d49"
      },
      "outputs": [
        {
          "output_type": "display_data",
          "data": {
            "text/plain": [
              "<Figure size 432x288 with 1 Axes>"
            ],
            "image/png": "[encoded data removed]"
          },
          "metadata": {
            "needs_background": "light"
          }
        },
        {
          "output_type": "display_data",
          "data": {
            "text/plain": [
              "<Figure size 432x288 with 1 Axes>"
            ],
            "image/png": "[encoded data removed]"
          },
          "metadata": {
            "needs_background": "light"
          }
        }
      ],
      "source": [
        "plt.imshow(X_train[5])\n",
        "plt.grid(False)\n",
        "plt.show()\n",
        "plt.imshow(X_train[6])\n",
        "plt.grid(False)\n",
        "plt.show()"
      ]
    },
    {
      "cell_type": "code",
      "execution_count": 6,
      "metadata": {
        "colab": {
          "base_uri": "https://localhost:8080/"
        },
        "id": "fSnGdfy1nE4Z",
        "outputId": "8dd9efef-b303-4858-f620-603aea9ce9a9"
      },
      "outputs": [
        {
          "output_type": "stream",
          "name": "stdout",
          "text": [
            "Model: \"sequential\"\n",
            "_________________________________________________________________\n",
            " Layer (type)                Output Shape              Param #   \n",
            "=================================================================\n",
            " conv2d (Conv2D)             (None, 32, 32, 32)        896       \n",
            "                                                                 \n",
            " activation (Activation)     (None, 32, 32, 32)        0         \n",
            "                                                                 \n",
            " max_pooling2d (MaxPooling2D  (None, 16, 16, 32)       0         \n",
            " )                                                               \n",
            "                                                                 \n",
            " dropout (Dropout)           (None, 16, 16, 32)        0         \n",
            "                                                                 \n",
            " flatten (Flatten)           (None, 8192)              0         \n",
            "                                                                 \n",
            " dense (Dense)               (None, 512)               4194816   \n",
            "                                                                 \n",
            " activation_1 (Activation)   (None, 512)               0         \n",
            "                                                                 \n",
            " dropout_1 (Dropout)         (None, 512)               0         \n",
            "                                                                 \n",
            " dense_1 (Dense)             (None, 10)                5130      \n",
            "                                                                 \n",
            " activation_2 (Activation)   (None, 10)                0         \n",
            "                                                                 \n",
            "=================================================================\n",
            "Total params: 4,200,842\n",
            "Trainable params: 4,200,842\n",
            "Non-trainable params: 0\n",
            "_________________________________________________________________\n"
          ]
        }
      ],
      "source": [
        "model = Sequential()\n",
        "# 3이나 (3, 3)이나 동일\n",
        "# same : 입력이나 출력이나 이미지 사이즈가 동일\n",
        "model.add(Conv2D(32, (3, 3), padding='same', input_shape = (IMG_ROWS, IMG_COLS, IMG_CHANNELS))) \n",
        "# 배치사이즈 128 x IMG_ROWS  32 x 32 x 채널수 32\n",
        "model.add(Activation('relu'))\n",
        "# 사이즈가 행이나 열로 반으로 줄어듬\n",
        "model.add(MaxPooling2D(pool_size=(2,2))) # 배치사이즈 128 x 16 x 16 x 32\n",
        "model.add(Dropout(0.25)) # 사이즈에 영향을 미치지 않고, 회로의 계산 중에 25%를 생략해서 과적합을 방지 ## 10:50\n",
        "\n",
        "model.add(Flatten()) # 128 x() 16 x 16 x 32 ) # 이미지 한 장의 특성\n",
        "model.add(Dense(512)) # (16 x 16 x 32) x 512 => 128 x 512\n",
        "model.add(Activation('relu'))\n",
        "model.add(Dropout(0.5))\n",
        "model.add(Dense(NB_CLASSES)) # 512 x 10 => 128 x 10\n",
        "model.add(Activation('softmax')) # 확률값으로 전환\n",
        "model.summary()"
      ]
    },
    {
      "cell_type": "code",
      "execution_count": 7,
      "metadata": {
        "colab": {
          "base_uri": "https://localhost:8080/"
        },
        "id": "RC5THDt2n3aq",
        "outputId": "02544b12-1a7a-4dc1-e262-48ddb11abd86"
      },
      "outputs": [
        {
          "output_type": "stream",
          "name": "stdout",
          "text": [
            "Epoch 1/20\n",
            "313/313 [==============================] - 12s 9ms/step - loss: 1.7233 - accuracy: 0.3924 - val_loss: 1.5348 - val_accuracy: 0.4507\n",
            "Epoch 2/20\n",
            "313/313 [==============================] - 2s 8ms/step - loss: 1.3775 - accuracy: 0.5091 - val_loss: 1.3087 - val_accuracy: 0.5418\n",
            "Epoch 3/20\n",
            "313/313 [==============================] - 2s 8ms/step - loss: 1.2475 - accuracy: 0.5594 - val_loss: 1.3192 - val_accuracy: 0.5477\n",
            "Epoch 4/20\n",
            "313/313 [==============================] - 2s 8ms/step - loss: 1.1630 - accuracy: 0.5903 - val_loss: 1.1936 - val_accuracy: 0.5769\n",
            "Epoch 5/20\n",
            "313/313 [==============================] - 3s 8ms/step - loss: 1.0922 - accuracy: 0.6147 - val_loss: 1.0989 - val_accuracy: 0.6244\n",
            "Epoch 6/20\n",
            "313/313 [==============================] - 2s 8ms/step - loss: 1.0411 - accuracy: 0.6351 - val_loss: 1.1536 - val_accuracy: 0.6005\n",
            "Epoch 7/20\n",
            "313/313 [==============================] - 2s 8ms/step - loss: 0.9870 - accuracy: 0.6549 - val_loss: 1.0803 - val_accuracy: 0.6231\n",
            "Epoch 8/20\n",
            "313/313 [==============================] - 2s 8ms/step - loss: 0.9481 - accuracy: 0.6701 - val_loss: 1.0156 - val_accuracy: 0.6483\n",
            "Epoch 9/20\n",
            "313/313 [==============================] - 2s 8ms/step - loss: 0.9056 - accuracy: 0.6839 - val_loss: 1.1067 - val_accuracy: 0.6224\n",
            "Epoch 10/20\n",
            "313/313 [==============================] - 2s 8ms/step - loss: 0.8681 - accuracy: 0.6984 - val_loss: 1.0412 - val_accuracy: 0.6447\n",
            "Epoch 11/20\n",
            "313/313 [==============================] - 2s 8ms/step - loss: 0.8381 - accuracy: 0.7081 - val_loss: 1.1114 - val_accuracy: 0.6313\n",
            "Epoch 12/20\n",
            "313/313 [==============================] - 2s 8ms/step - loss: 0.8060 - accuracy: 0.7191 - val_loss: 1.0901 - val_accuracy: 0.6427\n",
            "Epoch 13/20\n",
            "313/313 [==============================] - 2s 8ms/step - loss: 0.7718 - accuracy: 0.7287 - val_loss: 1.0367 - val_accuracy: 0.6523\n",
            "Epoch 14/20\n",
            "313/313 [==============================] - 2s 8ms/step - loss: 0.7479 - accuracy: 0.7402 - val_loss: 1.0808 - val_accuracy: 0.6444\n",
            "Epoch 15/20\n",
            "313/313 [==============================] - 2s 8ms/step - loss: 0.7241 - accuracy: 0.7494 - val_loss: 1.0445 - val_accuracy: 0.6646\n",
            "Epoch 16/20\n",
            "313/313 [==============================] - 2s 8ms/step - loss: 0.6982 - accuracy: 0.7595 - val_loss: 1.0497 - val_accuracy: 0.6648\n",
            "Epoch 17/20\n",
            "313/313 [==============================] - 2s 8ms/step - loss: 0.6728 - accuracy: 0.7679 - val_loss: 0.9985 - val_accuracy: 0.6775\n",
            "Epoch 18/20\n",
            "313/313 [==============================] - 2s 8ms/step - loss: 0.6616 - accuracy: 0.7718 - val_loss: 1.0357 - val_accuracy: 0.6730\n",
            "Epoch 19/20\n",
            "313/313 [==============================] - 2s 8ms/step - loss: 0.6392 - accuracy: 0.7794 - val_loss: 1.0858 - val_accuracy: 0.6762\n",
            "Epoch 20/20\n",
            "313/313 [==============================] - 2s 8ms/step - loss: 0.6197 - accuracy: 0.7879 - val_loss: 1.1606 - val_accuracy: 0.6659\n"
          ]
        }
      ],
      "source": [
        "model.compile(loss='categorical_crossentropy', optimizer=OPTIM, metrics=['accuracy'])\n",
        "history = model.fit(X_train, Y_train, batch_size=BATCH_SIZE,\n",
        "                    epochs=NB_EPOCH, validation_split=VALIDATION_SPLIT, verbose=VERBOSE)"
      ]
    },
    {
      "cell_type": "code",
      "execution_count": 8,
      "metadata": {
        "colab": {
          "base_uri": "https://localhost:8080/"
        },
        "id": "PIB9V87IoIo6",
        "outputId": "7ca599bd-e0eb-49fc-f1ec-e4fd4d433683"
      },
      "outputs": [
        {
          "output_type": "stream",
          "name": "stdout",
          "text": [
            "79/79 [==============================] - 0s 4ms/step - loss: 1.1641 - accuracy: 0.6621\n",
            "\n",
            "Test loss: 1.1641292572021484\n",
            "Test accuracy: 0.6621000170707703\n"
          ]
        }
      ],
      "source": [
        "score = model.evaluate(X_test, Y_test, batch_size=BATCH_SIZE, verbose=VERBOSE)\n",
        "print(\"\\nTest loss:\", score[0]) ## 10:53\n",
        "print(\"Test accuracy:\", score[1])"
      ]
    },
    {
      "cell_type": "markdown",
      "metadata": {
        "id": "uH7b2PmgslVM"
      },
      "source": [
        "# OCR : 카카오 id password\n",
        "# openAPI : \n",
        "  ### 키를 발급\n",
        "  ### 데이터를 카카오 전송한 다음 결과를 리턴 받음\n",
        "  ### 키는 REST API키로 전송\n",
        "  ### 실행 순서\n",
        "    - 이미지 리사이징\n",
        "    - 이미지 detect\n",
        "    - 이미지 recognization"
      ]
    },
    {
      "cell_type": "code",
      "execution_count": 9,
      "metadata": {
        "id": "gHplvkPHo5h3"
      },
      "outputs": [],
      "source": [
        "import json\n",
        "import cv2\n",
        "import requests\n",
        "import sys\n",
        "LIMIT_PX = 1024\n",
        "LIMIT_BYTE = 1024*1024 # 1MB\n",
        "LIMIT_BOX = 40"
      ]
    },
    {
      "cell_type": "code",
      "source": [
        "## 11:10"
      ],
      "metadata": {
        "id": "LBWi-NapzWhA"
      },
      "execution_count": 10,
      "outputs": []
    },
    {
      "cell_type": "markdown",
      "source": [
        "# google OCR\n",
        "  ### optical character recognition\n",
        "  -30만원 정도\n",
        "  - 사용자 키 생성\n",
        "  - vision api를 위한 사용\n",
        "  -client sdk를 이용해서 인증 후 사용\n",
        "  # 지원하는 파일 형식\n",
        "- jpeg, png8, gif\n",
        "- 이미지 사이즈가 20m를 초과하면 안 됨 (길이 * 넓이)\n",
        "- vision api 특징\n",
        " - FACE_DETECTION 1600 x 1200 눈 사이 거리가 가장 중요합니다\n",
        " - LANDMARK_DETECTION 640 x 480\n",
        " - LOGO_DETECTION 640 x 480\n",
        " - LABEL_DETECTION 640 x 480\n",
        " - TEXT_DETECTION 및 DOCUMENT_TEXT_DETECTION 1024, 768의 경우 문자 감지를 위해 해상도가 더 높아야 합니다. SAFE_SEARCH_DETECTION  640x480"
      ],
      "metadata": {
        "id": "MYrWk_HK7FzR"
      }
    },
    {
      "cell_type": "code",
      "source": [
        "def kakao_ocr_resize(image_path: str):\n",
        "  image = cv2.imread('/content/drive/MyDrive/00_05_1_daejeon/data/2마트영수증.jpg')\n",
        "  height, width, _ = image.shape\n",
        "  if LIMIT_PX < height or LIMIT_PX < width:\n",
        "    ratio = float(LIMIT_PX) / max(height,width)\n",
        "    # openAPI 요구하는 사이즈로 변경\n",
        "    image = cv2.resize(image, None, fx=ratio, fy=ratio)\n",
        "    height, width, _ = height, width, _ = image.shape\n",
        "    image_path= \"{}_resized.jpg\".format('2')\n",
        "    cv2.imwrite(image_path, image)\n",
        "    return image_path\n",
        "  return None"
      ],
      "metadata": {
        "id": "oYidUnr5uW8e"
      },
      "execution_count": 11,
      "outputs": []
    },
    {
      "cell_type": "code",
      "source": [
        "# detection model은 모델을 확인하는 박스\n",
        "#def kakao_ocr_detect(image_path: str, appkey: str):\n",
        "#  API_URL = 'https://kapi.kakao.com/v1/vision/text/detect'\n",
        "#  headers = {'Authorization' : 'KakaoAK {}'.format('c81bab6a9c9e6c8084452872acb239d5')}\n",
        "#  image = cv2.imread('/content/drive/MyDrive/00_05_1_daejeon/data/2마트영수증.jpg')\n",
        "#  jpeg_image = cv2.imencode(\".jpg\", image)[1]\n",
        "#  data = jpeg_image.tobytes() # serialization해서 전송\n",
        "  # 네트워크는 두개의 송수신선 (광통신(빛으로 전송 : 발광/수광 -> 한 선으로 전송))\n",
        "  # post 방식으로 데이터 전송\n",
        "#  return requests.post(API_URL, headers = headers, files={\"file\": data}, data={\"boxes\": json.dumps(boxes)})"
      ],
      "metadata": {
        "id": "yyvudelmu768"
      },
      "execution_count": 12,
      "outputs": []
    },
    {
      "cell_type": "code",
      "source": [
        "# detection model은 이미지인지 문자인지를 구별하는 박스\n",
        "#def kakao_ocr_recognize(image_path: str, boxes: list, appkey: str):\n",
        "#  API_URL = 'https://kapi.kakao.com/v1/vision/text/recognize'\n",
        "#  headers = {'Authorization': 'KakaoAK {}'.format('c81bab6a9c9e6c8084452872acb239d5')}\n",
        "#  image = cv2.imread('/content/drive/MyDrive/00_05_1_daejeon/data/2마트영수증.jpg')\n",
        "#  jpeg_image = cv2.imencode(\".jpg\", image)[1]\n",
        "#  data = jpeg_image.tobytes() # serialization해서 전송\n",
        "  # box 데이터 : detection 박스 : 문자 테두리 -> 문자를 인식(object detection - 해당 이미지에 박스를 쳐서 -> 박스 안에 있는 이미지를 인식)\n",
        "#  return requests.post(API_URL, headers = headers, files={\"file\": data}, data={\"boxes\": json.dumps(boxes)})"
      ],
      "metadata": {
        "id": "HbsGW77xvZVL"
      },
      "execution_count": 13,
      "outputs": []
    },
    {
      "cell_type": "code",
      "source": [
        "def kakao_ocr(image_path: str, appkey: str):\n",
        "  \"\"\"\n",
        "  OCR api request example\n",
        "  :param image_path: 이미지파일 경로\n",
        "  :param appkey: 카카오 앱 REST API 키\n",
        "  \"\"\"\n",
        "  API_URL = 'https://dapi.kakao.com/v2/vision/text/ocr'\n",
        "  headers = {'Authorization': 'KakaoAK {}'.format(appkey)}\n",
        "  image = cv2.imread(image_path)\n",
        "  jpeg_image = cv2.imencode(\".jpg\", image)[1]\n",
        "  data = jpeg_image.tobytes()\n",
        "  return requests.post(API_URL, headers=headers, files={\"image\": data})"
      ],
      "metadata": {
        "id": "8W46pB1U-RwL"
      },
      "execution_count": 14,
      "outputs": []
    },
    {
      "cell_type": "code",
      "source": [
        "def main():\n",
        "  # if len(sys.argv) != 3:\n",
        "  #   print(\"다시 실행하시오\")\n",
        "  image_path, appkey = '/content/drive/MyDrive/00_05_1_daejeon/data/2마트영수증.jpg', 'c81bab6a9c9e6c8084452872acb239d5'\n",
        "  resize_impath = kakao_ocr_resize(image_path)\n",
        "  if resize_impath is not None:\n",
        "    image_path = resize_impath\n",
        "    print(\"원본 대신 리사이즈된 이미지를 사용합니다.\")\n",
        "#  print(image_path)\n",
        "#  output = kakao_ocr_detect(image_path, appkey).json()\n",
        "#  print(\"[detect] output:\\n{}\\n\".format(output))\n",
        "#  boxes = output[\"result\"][\"boxes\"]\n",
        "#  boxes = boxes[:min(len(boxes), LIMIT_BOX)]\n",
        "#  output = kakao_ocr_recognize(image_path, boxes, appkey).json()\n",
        "  output = kakao_ocr(image_path, appkey).json() # REST API는 json 형태로 데이터를 송수신\n",
        "#  print(\"[recognize] output:\\n{}\\n\".format(json.dumps(output, sort_keys=True, indent=2)))\n",
        "  return output"
      ],
      "metadata": {
        "id": "-aY5GEC7wHhA"
      },
      "execution_count": 15,
      "outputs": []
    },
    {
      "cell_type": "code",
      "source": [
        "main() ## 12:10"
      ],
      "metadata": {
        "colab": {
          "base_uri": "https://localhost:8080/"
        },
        "id": "949KUC8Qw8j4",
        "outputId": "a29748b1-2d85-44c4-9672-732dc17c5291"
      },
      "execution_count": 16,
      "outputs": [
        {
          "output_type": "execute_result",
          "data": {
            "text/plain": [
              "{'result': [{'boxes': [[47, 18], [72, 18], [72, 45], [47, 45]],\n",
              "   'recognition_words': ['흐']},\n",
              "  {'boxes': [[141, 17], [188, 17], [188, 46], [141, 46]],\n",
              "   'recognition_words': ['농협']},\n",
              "  {'boxes': [[39, 52], [66, 51], [66, 63], [40, 65]],\n",
              "   'recognition_words': ['경기']},\n",
              "  {'boxes': [[72, 49], [124, 49], [124, 66], [72, 66]],\n",
              "   'recognition_words': ['의정부시']},\n",
              "  {'boxes': [[156, 64], [181, 64], [181, 78], [156, 78]],\n",
              "   'recognition_words': ['전화']},\n",
              "  {'boxes': [[186, 64], [207, 64], [207, 78], [186, 78]],\n",
              "   'recognition_words': ['031']},\n",
              "  {'boxes': [[124, 76], [158, 76], [158, 88], [124, 88]],\n",
              "   'recognition_words': ['*****']},\n",
              "  {'boxes': [[161, 87], [214, 86], [214, 99], [162, 101]],\n",
              "   'recognition_words': ['nonghyue']},\n",
              "  {'boxes': [[217, 90], [245, 89], [245, 99], [218, 101]],\n",
              "   'recognition_words': ['com/']},\n",
              "  {'boxes': [[9, 94], [49, 98], [48, 112], [7, 109]],\n",
              "   'recognition_words': ['영수증']},\n",
              "  {'boxes': [[53, 98], [105, 98], [105, 114], [53, 114]],\n",
              "   'recognition_words': ['미지참시']},\n",
              "  {'boxes': [[110, 100], [135, 100], [135, 113], [110, 113]],\n",
              "   'recognition_words': ['교환']},\n",
              "  {'boxes': [[141, 99], [154, 99], [154, 112], [141, 112]],\n",
              "   'recognition_words': ['한']},\n",
              "  {'boxes': [[155, 99], [167, 99], [167, 112], [155, 112]],\n",
              "   'recognition_words': ['불']},\n",
              "  {'boxes': [[172, 99], [253, 96], [254, 113], [172, 115]],\n",
              "   'recognition_words': ['불가(30일내)']},\n",
              "  {'boxes': [[7, 110], [51, 108], [51, 124], [8, 125]],\n",
              "   'recognition_words': ['교환/환']},\n",
              "  {'boxes': [[72, 111], [109, 111], [109, 124], [72, 124]],\n",
              "   'recognition_words': ['구매점']},\n",
              "  {'boxes': [[110, 111], [135, 112], [135, 124], [109, 122]],\n",
              "   'recognition_words': ['에서']},\n",
              "  {'boxes': [[141, 112], [167, 113], [167, 125], [140, 123]],\n",
              "   'recognition_words': ['가능']},\n",
              "  {'boxes': [[8, 134], [47, 132], [47, 151], [9, 152]],\n",
              "   'recognition_words': ['김감소']},\n",
              "  {'boxes': [[77, 133], [146, 132], [146, 147], [78, 149]],\n",
              "   'recognition_words': ['2015-11-03']},\n",
              "  {'boxes': [[149, 133], [203, 135], [203, 150], [148, 147]],\n",
              "   'recognition_words': ['16:31:53']},\n",
              "  {'boxes': [[212, 134], [276, 134], [276, 149], [212, 149]],\n",
              "   'recognition_words': ['0002-00085']},\n",
              "  {'boxes': [[9, 144], [74, 144], [74, 163], [9, 163]],\n",
              "   'recognition_words': ['상품(코드)']},\n",
              "  {'boxes': [[136, 145], [162, 145], [162, 164], [136, 164]],\n",
              "   'recognition_words': ['단가']},\n",
              "  {'boxes': [[188, 145], [212, 145], [212, 160], [188, 160]],\n",
              "   'recognition_words': ['수량']},\n",
              "  {'boxes': [[250, 147], [276, 147], [276, 160], [250, 160]],\n",
              "   'recognition_words': ['금액']},\n",
              "  {'boxes': [[8, 170], [29, 168], [29, 181], [8, 182]],\n",
              "   'recognition_words': ['001']},\n",
              "  {'boxes': [[36, 167], [110, 168], [110, 184], [35, 182]],\n",
              "   'recognition_words': ['P굿모닝우유']},\n",
              "  {'boxes': [[116, 169], [149, 168], [149, 182], [117, 184]],\n",
              "   'recognition_words': ['900ML']},\n",
              "  {'boxes': [[232, 169], [246, 169], [246, 184], [232, 184]],\n",
              "   'recognition_words': ['[2']},\n",
              "  {'boxes': [[251, 170], [276, 170], [276, 182], [251, 182]],\n",
              "   'recognition_words': ['150]']},\n",
              "  {'boxes': [[136, 179], [170, 179], [170, 195], [136, 195]],\n",
              "   'recognition_words': ['1,350']},\n",
              "  {'boxes': [[243, 184], [277, 182], [277, 193], [244, 196]],\n",
              "   'recognition_words': ['1,350']},\n",
              "  {'boxes': [[9, 193], [29, 193], [29, 207], [9, 207]],\n",
              "   'recognition_words': ['002']},\n",
              "  {'boxes': [[35, 193], [74, 193], [74, 206], [35, 206]],\n",
              "   'recognition_words': ['P양파']},\n",
              "  {'boxes': [[9, 203], [56, 202], [57, 217], [10, 218]],\n",
              "   'recognition_words': ['*231973']},\n",
              "  {'boxes': [[136, 203], [170, 203], [170, 219], [136, 219]],\n",
              "   'recognition_words': ['3,300']},\n",
              "  {'boxes': [[243, 204], [277, 204], [277, 220], [243, 220]],\n",
              "   'recognition_words': ['3,300']},\n",
              "  {'boxes': [[8, 216], [29, 215], [30, 228], [9, 229]],\n",
              "   'recognition_words': ['003']},\n",
              "  {'boxes': [[35, 216], [59, 216], [59, 229], [35, 229]],\n",
              "   'recognition_words': ['P무']},\n",
              "  {'boxes': [[9, 228], [55, 226], [56, 240], [10, 242]],\n",
              "   'recognition_words': ['*231913']},\n",
              "  {'boxes': [[149, 228], [169, 228], [169, 241], [149, 241]],\n",
              "   'recognition_words': ['500']},\n",
              "  {'boxes': [[257, 228], [277, 228], [277, 242], [257, 242]],\n",
              "   'recognition_words': ['500']},\n",
              "  {'boxes': [[8, 240], [29, 239], [29, 252], [9, 253]],\n",
              "   'recognition_words': ['004']},\n",
              "  {'boxes': [[35, 237], [73, 238], [73, 253], [34, 252]],\n",
              "   'recognition_words': ['P깻잎']},\n",
              "  {'boxes': [[79, 246], [88, 246], [88, 257], [79, 257]],\n",
              "   'recognition_words': ['.']},\n",
              "  {'boxes': [[9, 252], [54, 250], [54, 262], [10, 265]],\n",
              "   'recognition_words': ['*231308']},\n",
              "  {'boxes': [[149, 252], [169, 251], [169, 263], [150, 265]],\n",
              "   'recognition_words': ['750']},\n",
              "  {'boxes': [[257, 251], [277, 251], [277, 265], [257, 265]],\n",
              "   'recognition_words': ['750']},\n",
              "  {'boxes': [[8, 262], [29, 261], [30, 276], [9, 277]],\n",
              "   'recognition_words': ['005']},\n",
              "  {'boxes': [[34, 262], [85, 262], [85, 276], [34, 276]],\n",
              "   'recognition_words': ['P하선정']},\n",
              "  {'boxes': [[90, 262], [141, 261], [141, 277], [91, 279]],\n",
              "   'recognition_words': ['바로먹기']},\n",
              "  {'boxes': [[156, 261], [203, 261], [203, 278], [156, 278]],\n",
              "   'recognition_words': ['은장아찌']},\n",
              "  {'boxes': [[213, 262], [239, 263], [239, 279], [212, 277]],\n",
              "   'recognition_words': ['150g']},\n",
              "  {'boxes': [[14, 273], [99, 275], [99, 289], [13, 286]],\n",
              "   'recognition_words': ['8801007265889']},\n",
              "  {'boxes': [[244, 274], [277, 273], [277, 287], [245, 289]],\n",
              "   'recognition_words': ['1,380']},\n",
              "  {'boxes': [[139, 278], [170, 277], [170, 288], [140, 290]],\n",
              "   'recognition_words': ['1,380']},\n",
              "  {'boxes': [[9, 287], [29, 287], [29, 299], [9, 299]],\n",
              "   'recognition_words': ['006']},\n",
              "  {'boxes': [[36, 286], [98, 286], [98, 300], [36, 300]],\n",
              "   'recognition_words': ['P브로커리']},\n",
              "  {'boxes': [[9, 298], [55, 298], [55, 313], [9, 313]],\n",
              "   'recognition_words': ['*232285']},\n",
              "  {'boxes': [[136, 297], [170, 297], [170, 315], [136, 315]],\n",
              "   'recognition_words': ['1.280']},\n",
              "  {'boxes': [[243, 297], [277, 296], [277, 317], [244, 319]],\n",
              "   'recognition_words': ['1.280']},\n",
              "  {'boxes': [[124, 322], [135, 322], [135, 335], [124, 335]],\n",
              "   'recognition_words': ['매']},\n",
              "  {'boxes': [[237, 322], [244, 322], [244, 335], [237, 335]],\n",
              "   'recognition_words': ['8']},\n",
              "  {'boxes': [[249, 320], [276, 320], [276, 340], [249, 340]],\n",
              "   'recognition_words': ['560']},\n",
              "  {'boxes': [[103, 344], [143, 349], [139, 380], [98, 374]],\n",
              "   'recognition_words': ['박을']},\n",
              "  {'boxes': [[142, 343], [155, 343], [155, 360], [142, 360]],\n",
              "   'recognition_words': ['금']},\n",
              "  {'boxes': [[237, 346], [244, 346], [244, 359], [237, 359]],\n",
              "   'recognition_words': ['8']},\n",
              "  {'boxes': [[248, 346], [270, 345], [270, 358], [249, 360]],\n",
              "   'recognition_words': ['560']},\n",
              "  {'boxes': [[238, 357], [244, 357], [244, 369], [238, 369]],\n",
              "   'recognition_words': ['8']},\n",
              "  {'boxes': [[250, 357], [270, 357], [270, 370], [250, 370]],\n",
              "   'recognition_words': ['560']},\n",
              "  {'boxes': [[41, 367], [53, 367], [53, 383], [41, 383]],\n",
              "   'recognition_words': ['>>']},\n",
              "  {'boxes': [[61, 376], [175, 379], [174, 412], [60, 408]],\n",
              "   'recognition_words': ['']},\n",
              "  {'boxes': [[249, 381], [270, 380], [270, 392], [250, 394]],\n",
              "   'recognition_words': ['180']},\n",
              "  {'boxes': [[249, 393], [271, 392], [271, 404], [250, 406]],\n",
              "   'recognition_words': ['255']},\n",
              "  {'boxes': [[250, 402], [270, 401], [270, 414], [250, 415]],\n",
              "   'recognition_words': ['125']},\n",
              "  {'boxes': [[9, 426], [60, 426], [60, 443], [9, 443]],\n",
              "   'recognition_words': ['바코드앞']},\n",
              "  {'boxes': [[79, 425], [104, 425], [104, 445], [79, 445]],\n",
              "   'recognition_words': ['면세']},\n",
              "  {'boxes': [[129, 425], [157, 425], [157, 447], [129, 447]],\n",
              "   'recognition_words': ['영세']},\n",
              "  {'boxes': [[167, 427], [205, 426], [206, 442], [167, 444]],\n",
              "   'recognition_words': ['상품명']},\n",
              "  {'boxes': [[214, 427], [249, 427], [249, 441], [214, 441]],\n",
              "   'recognition_words': ['P포인']},\n",
              "  {'boxes': [[9, 449], [33, 451], [33, 464], [8, 463]],\n",
              "   'recognition_words': ['회원']},\n",
              "  {'boxes': [[129, 450], [161, 451], [160, 463], [129, 461]],\n",
              "   'recognition_words': ['박*분']},\n",
              "  {'boxes': [[168, 450], [181, 450], [180, 465], [166, 464]],\n",
              "   'recognition_words': ['님']},\n",
              "  {'boxes': [[98, 462], [172, 462], [172, 477], [98, 477]],\n",
              "   'recognition_words': ['우수고객포인']},\n",
              "  {'boxes': [[263, 462], [277, 462], [277, 475], [263, 475]],\n",
              "   'recognition_words': ['40']},\n",
              "  {'boxes': [[118, 475], [128, 475], [128, 487], [118, 487]],\n",
              "   'recognition_words': ['여']},\n",
              "  {'boxes': [[137, 475], [146, 475], [146, 488], [137, 488]],\n",
              "   'recognition_words': ['포']},\n",
              "  {'boxes': [[155, 472], [168, 472], [168, 486], [155, 486]],\n",
              "   'recognition_words': ['인']},\n",
              "  {'boxes': [[263, 473], [277, 473], [277, 489], [263, 489]],\n",
              "   'recognition_words': ['98']},\n",
              "  {'boxes': [[238, 479], [276, 480], [275, 502], [237, 501]],\n",
              "   'recognition_words': ['14:190']},\n",
              "  {'boxes': [[135, 484], [173, 485], [173, 500], [134, 498]],\n",
              "   'recognition_words': ['능포인']},\n",
              "  {'boxes': [[23, 509], [61, 510], [61, 521], [23, 519]],\n",
              "   'recognition_words': ['******']},\n",
              "  {'boxes': [[67, 509], [79, 509], [79, 522], [67, 522]],\n",
              "   'recognition_words': ['신']},\n",
              "  {'boxes': [[79, 508], [116, 508], [116, 522], [79, 522]],\n",
              "   'recognition_words': ['용카드']},\n",
              "  {'boxes': [[123, 509], [135, 510], [135, 522], [122, 520]],\n",
              "   'recognition_words': ['O']},\n",
              "  {'boxes': [[133, 510], [152, 509], [152, 521], [134, 523]],\n",
              "   'recognition_words': ['출']},\n",
              "  {'boxes': [[206, 509], [226, 509], [226, 522], [206, 522]],\n",
              "   'recognition_words': ['용)']},\n",
              "  {'boxes': [[67, 533], [92, 533], [92, 546], [67, 546]],\n",
              "   'recognition_words': ['4902']},\n",
              "  {'boxes': [[140, 534], [170, 535], [170, 546], [139, 544]],\n",
              "   'recognition_words': ['*****']},\n",
              "  {'boxes': [[8, 542], [34, 543], [33, 559], [7, 557]],\n",
              "   'recognition_words': ['할부']},\n",
              "  {'boxes': [[36, 544], [66, 546], [66, 558], [35, 557]],\n",
              "   'recognition_words': [':00개']},\n",
              "  {'boxes': [[67, 545], [77, 545], [77, 559], [67, 559]],\n",
              "   'recognition_words': ['1E']},\n",
              "  {'boxes': [[135, 544], [173, 545], [173, 559], [134, 557]],\n",
              "   'recognition_words': ['매출금']},\n",
              "  {'boxes': [[175, 544], [194, 544], [194, 557], [175, 557]],\n",
              "   'recognition_words': ['액:']},\n",
              "  {'boxes': [[231, 544], [243, 544], [243, 558], [231, 558]],\n",
              "   'recognition_words': ['8.']},\n",
              "  {'boxes': [[244, 543], [274, 544], [274, 558], [243, 556]],\n",
              "   'recognition_words': ['560원']},\n",
              "  {'boxes': [[36, 557], [54, 559], [53, 570], [34, 567]],\n",
              "   'recognition_words': ['No:']},\n",
              "  {'boxes': [[54, 555], [102, 554], [103, 568], [55, 569]],\n",
              "   'recognition_words': ['75513401']},\n",
              "  {'boxes': [[135, 556], [174, 558], [172, 582], [134, 579]],\n",
              "   'recognition_words': ['가간트로']},\n",
              "  {'boxes': [[174, 555], [250, 553], [250, 567], [175, 570]],\n",
              "   'recognition_words': [':00000074900']},\n",
              "  {'boxes': [[63, 568], [118, 566], [118, 580], [64, 583]],\n",
              "   'recognition_words': ['20151103']},\n",
              "  {'boxes': [[173, 567], [239, 566], [240, 580], [174, 582]],\n",
              "   'recognition_words': ['사:KIS(V3)']},\n",
              "  {'boxes': [[22, 602], [34, 602], [34, 616], [22, 616]],\n",
              "   'recognition_words': ['은']},\n",
              "  {'boxes': [[40, 601], [66, 602], [66, 617], [39, 615]],\n",
              "   'recognition_words': ['하루']},\n",
              "  {'boxes': [[72, 602], [117, 602], [117, 618], [72, 618]],\n",
              "   'recognition_words': ['되세요!']},\n",
              "  {'boxes': [[9, 614], [20, 614], [20, 628], [9, 628]],\n",
              "   'recognition_words': ['언']},\n",
              "  {'boxes': [[111, 615], [136, 615], [136, 629], [111, 629]],\n",
              "   'recognition_words': ['위해']},\n",
              "  {'boxes': [[141, 613], [181, 611], [181, 628], [141, 630]],\n",
              "   'recognition_words': ['최선을']},\n",
              "  {'boxes': [[187, 612], [264, 613], [264, 635], [186, 633]],\n",
              "   'recognition_words': ['당하겠용님당']}]}"
            ]
          },
          "metadata": {},
          "execution_count": 16
        }
      ]
    },
    {
      "cell_type": "markdown",
      "source": [
        "# 시계열 분석\n",
        "### 12:22"
      ],
      "metadata": {
        "id": "r7qtP4bMALip"
      }
    },
    {
      "cell_type": "code",
      "source": [
        "import numpy\n",
        "import matplotlib.pyplot as plt\n",
        "import pandas\n",
        "import math\n",
        "from tensorflow.keras.models import Sequential\n",
        "from tensorflow.keras.layers import Dense\n",
        "numpy.random.seed(7)\n",
        "dataframe = pandas.read_csv('/content/drive/MyDrive/00_05_1_daejeon/data/Passengers.csv', usecols=[1], engine='python', skipfooter=3) # uncols=[1]\n",
        "dataset = dataframe.values\n",
        "#dataset = dataset.astype('float32')\n",
        "train_size = int(len(dataset) * 0.67)\n",
        "test_size = len(dataset) - train_size\n",
        "train, test = dataset[0:train_size,:], dataset[train_size:len(dataset),:]\n",
        "print(len(train), len(test))"
      ],
      "metadata": {
        "colab": {
          "base_uri": "https://localhost:8080/"
        },
        "id": "fGEZFCRh1PTK",
        "outputId": "dffdf68f-767b-4287-cda2-a2d6d35099f4"
      },
      "execution_count": 17,
      "outputs": [
        {
          "output_type": "stream",
          "name": "stdout",
          "text": [
            "94 47\n"
          ]
        }
      ]
    },
    {
      "cell_type": "code",
      "source": [
        "print(dataframe.head())\n",
        "len(dataframe)"
      ],
      "metadata": {
        "colab": {
          "base_uri": "https://localhost:8080/"
        },
        "id": "6ztQgLg4BcYa",
        "outputId": "fbb8445c-48d8-431a-a0c9-fbd7bc54a076"
      },
      "execution_count": 18,
      "outputs": [
        {
          "output_type": "stream",
          "name": "stdout",
          "text": [
            "   Passengers\n",
            "0         112\n",
            "1         118\n",
            "2         132\n",
            "3         129\n",
            "4         121\n"
          ]
        },
        {
          "output_type": "execute_result",
          "data": {
            "text/plain": [
              "141"
            ]
          },
          "metadata": {},
          "execution_count": 18
        }
      ]
    },
    {
      "cell_type": "code",
      "source": [
        "test.shape\n",
        "test\n",
        "# 자기 상관성 띄고 있는 데이터\n",
        "# 독립변수와 종속변수가 순서대로 지정"
      ],
      "metadata": {
        "colab": {
          "base_uri": "https://localhost:8080/"
        },
        "id": "fvA6E-tTEKOZ",
        "outputId": "1297bafd-27d5-4bf6-d2bf-7d130515f391"
      },
      "execution_count": 19,
      "outputs": [
        {
          "output_type": "execute_result",
          "data": {
            "text/plain": [
              "array([[271],\n",
              "       [306],\n",
              "       [315],\n",
              "       [301],\n",
              "       [356],\n",
              "       [348],\n",
              "       [355],\n",
              "       [422],\n",
              "       [465],\n",
              "       [467],\n",
              "       [404],\n",
              "       [347],\n",
              "       [305],\n",
              "       [336],\n",
              "       [340],\n",
              "       [318],\n",
              "       [362],\n",
              "       [348],\n",
              "       [363],\n",
              "       [435],\n",
              "       [491],\n",
              "       [505],\n",
              "       [404],\n",
              "       [359],\n",
              "       [310],\n",
              "       [337],\n",
              "       [360],\n",
              "       [342],\n",
              "       [406],\n",
              "       [396],\n",
              "       [420],\n",
              "       [472],\n",
              "       [548],\n",
              "       [559],\n",
              "       [463],\n",
              "       [407],\n",
              "       [362],\n",
              "       [405],\n",
              "       [417],\n",
              "       [391],\n",
              "       [419],\n",
              "       [461],\n",
              "       [472],\n",
              "       [535],\n",
              "       [622],\n",
              "       [606],\n",
              "       [508]])"
            ]
          },
          "metadata": {},
          "execution_count": 19
        }
      ]
    },
    {
      "cell_type": "code",
      "source": [
        "def create_dataset(dataset, look_back=1):\n",
        "  dataX, dataY = [], [] # 독립변수, 종속변수\n",
        "  for i in range(len(dataset)-look_back-1): # 종료시점\n",
        "    # 범위로 하면 look_back 위치는 제외\n",
        "    a = dataset[i:(i+look_back), 0] # 4개 # 앞의 3개는 종속 변수 없음 ## 12:38\n",
        "    dataX.append(a)\n",
        "    dataY.append(dataset[i + look_back, 0])\n",
        "    ## 루프백이 있는 얘를 종속변수로 해주면 됨\n",
        "  return numpy.array(dataX), numpy.array(dataY)"
      ],
      "metadata": {
        "id": "FdwbLorTBnOp"
      },
      "execution_count": 20,
      "outputs": []
    },
    {
      "cell_type": "code",
      "source": [
        "look_back = 2 # 독립변수의 개수\n",
        "trainX, trainY = create_dataset(train, look_back)\n",
        "testX, testY = create_dataset(test, look_back)\n",
        "print(trainX[:3], trainY[:3])\n",
        "#print(trainY)\n",
        "train[:5]"
      ],
      "metadata": {
        "colab": {
          "base_uri": "https://localhost:8080/"
        },
        "id": "0hoe871sCCMJ",
        "outputId": "a1aae94f-58c7-46b8-b79a-021e804bb56b"
      },
      "execution_count": 21,
      "outputs": [
        {
          "output_type": "stream",
          "name": "stdout",
          "text": [
            "[[112 118]\n",
            " [118 132]\n",
            " [132 129]] [132 129 121]\n"
          ]
        },
        {
          "output_type": "execute_result",
          "data": {
            "text/plain": [
              "array([[112],\n",
              "       [118],\n",
              "       [132],\n",
              "       [129],\n",
              "       [121]])"
            ]
          },
          "metadata": {},
          "execution_count": 21
        }
      ]
    },
    {
      "cell_type": "code",
      "source": [
        "## 12:46\n",
        "# Train Score: 479.21 MSE (21.89 RMSE)\n",
        "# Test Score: 1885.58 MSE (43.42 RMSE)\n",
        "# 학습된 데이터는 99%까지 => 데이터가 있는 경우 + TM(뉴시), 이자율변동, 유동성 분석\n",
        "\n",
        "model = Sequential()\n",
        "model.add(Dense(8, input_dim=look_back, activation='relu')) # 2x8\n",
        "model.add(Dense(1)) # 8x1 행렬\n",
        "# 예측 : MSE loss function\n",
        "model.compile(loss='mean_squared_error', optimizer='adam')\n",
        "model.fit(trainX, trainY, epochs = 200, batch_size=2, verbose=2)\n",
        "trainScore = model.evaluate(trainX, trainY, verbose=0)\n",
        "print('Train Score: %.2f MSE (%.2f RMSE)' % (trainScore, math.sqrt(trainScore)))\n",
        "testScore = model.evaluate(testX, testY, verbose=0)\n",
        "print('Test Score: %.2f MSE (%.2f RMSE)' % (testScore, math.sqrt(testScore)))"
      ],
      "metadata": {
        "colab": {
          "base_uri": "https://localhost:8080/"
        },
        "id": "FRm84elCCJFY",
        "outputId": "38afea5a-3935-4790-b506-fbbf28782079"
      },
      "execution_count": 22,
      "outputs": [
        {
          "output_type": "stream",
          "name": "stdout",
          "text": [
            "Epoch 1/200\n",
            "46/46 - 0s - loss: 105011.4141 - 441ms/epoch - 10ms/step\n",
            "Epoch 2/200\n",
            "46/46 - 0s - loss: 80183.0078 - 98ms/epoch - 2ms/step\n",
            "Epoch 3/200\n",
            "46/46 - 0s - loss: 59316.8750 - 94ms/epoch - 2ms/step\n",
            "Epoch 4/200\n",
            "46/46 - 0s - loss: 42018.9492 - 109ms/epoch - 2ms/step\n",
            "Epoch 5/200\n",
            "46/46 - 0s - loss: 28034.4062 - 102ms/epoch - 2ms/step\n",
            "Epoch 6/200\n",
            "46/46 - 0s - loss: 16985.4844 - 95ms/epoch - 2ms/step\n",
            "Epoch 7/200\n",
            "46/46 - 0s - loss: 9522.7119 - 94ms/epoch - 2ms/step\n",
            "Epoch 8/200\n",
            "46/46 - 0s - loss: 4831.9858 - 96ms/epoch - 2ms/step\n",
            "Epoch 9/200\n",
            "46/46 - 0s - loss: 2295.7117 - 100ms/epoch - 2ms/step\n",
            "Epoch 10/200\n",
            "46/46 - 0s - loss: 1185.2111 - 94ms/epoch - 2ms/step\n",
            "Epoch 11/200\n",
            "46/46 - 0s - loss: 766.4844 - 92ms/epoch - 2ms/step\n",
            "Epoch 12/200\n",
            "46/46 - 0s - loss: 630.3615 - 97ms/epoch - 2ms/step\n",
            "Epoch 13/200\n",
            "46/46 - 0s - loss: 584.4628 - 94ms/epoch - 2ms/step\n",
            "Epoch 14/200\n",
            "46/46 - 0s - loss: 568.7056 - 103ms/epoch - 2ms/step\n",
            "Epoch 15/200\n",
            "46/46 - 0s - loss: 568.5125 - 95ms/epoch - 2ms/step\n",
            "Epoch 16/200\n",
            "46/46 - 0s - loss: 564.0745 - 90ms/epoch - 2ms/step\n",
            "Epoch 17/200\n",
            "46/46 - 0s - loss: 557.2946 - 98ms/epoch - 2ms/step\n",
            "Epoch 18/200\n",
            "46/46 - 0s - loss: 555.8923 - 99ms/epoch - 2ms/step\n",
            "Epoch 19/200\n",
            "46/46 - 0s - loss: 560.5154 - 99ms/epoch - 2ms/step\n",
            "Epoch 20/200\n",
            "46/46 - 0s - loss: 556.8194 - 93ms/epoch - 2ms/step\n",
            "Epoch 21/200\n",
            "46/46 - 0s - loss: 556.0342 - 92ms/epoch - 2ms/step\n",
            "Epoch 22/200\n",
            "46/46 - 0s - loss: 552.9091 - 285ms/epoch - 6ms/step\n",
            "Epoch 23/200\n",
            "46/46 - 0s - loss: 550.3619 - 91ms/epoch - 2ms/step\n",
            "Epoch 24/200\n",
            "46/46 - 0s - loss: 552.2045 - 94ms/epoch - 2ms/step\n",
            "Epoch 25/200\n",
            "46/46 - 0s - loss: 550.0953 - 95ms/epoch - 2ms/step\n",
            "Epoch 26/200\n",
            "46/46 - 0s - loss: 548.8525 - 91ms/epoch - 2ms/step\n",
            "Epoch 27/200\n",
            "46/46 - 0s - loss: 549.0908 - 95ms/epoch - 2ms/step\n",
            "Epoch 28/200\n",
            "46/46 - 0s - loss: 545.2560 - 106ms/epoch - 2ms/step\n",
            "Epoch 29/200\n",
            "46/46 - 0s - loss: 544.8563 - 109ms/epoch - 2ms/step\n",
            "Epoch 30/200\n",
            "46/46 - 0s - loss: 545.5087 - 91ms/epoch - 2ms/step\n",
            "Epoch 31/200\n",
            "46/46 - 0s - loss: 543.6293 - 98ms/epoch - 2ms/step\n",
            "Epoch 32/200\n",
            "46/46 - 0s - loss: 545.6961 - 120ms/epoch - 3ms/step\n",
            "Epoch 33/200\n",
            "46/46 - 0s - loss: 543.1398 - 102ms/epoch - 2ms/step\n",
            "Epoch 34/200\n",
            "46/46 - 0s - loss: 546.9194 - 98ms/epoch - 2ms/step\n",
            "Epoch 35/200\n",
            "46/46 - 0s - loss: 547.9669 - 92ms/epoch - 2ms/step\n",
            "Epoch 36/200\n",
            "46/46 - 0s - loss: 543.9219 - 92ms/epoch - 2ms/step\n",
            "Epoch 37/200\n",
            "46/46 - 0s - loss: 547.7957 - 97ms/epoch - 2ms/step\n",
            "Epoch 38/200\n",
            "46/46 - 0s - loss: 547.4733 - 91ms/epoch - 2ms/step\n",
            "Epoch 39/200\n",
            "46/46 - 0s - loss: 542.6210 - 91ms/epoch - 2ms/step\n",
            "Epoch 40/200\n",
            "46/46 - 0s - loss: 545.5336 - 90ms/epoch - 2ms/step\n",
            "Epoch 41/200\n",
            "46/46 - 0s - loss: 546.2304 - 95ms/epoch - 2ms/step\n",
            "Epoch 42/200\n",
            "46/46 - 0s - loss: 540.9803 - 107ms/epoch - 2ms/step\n",
            "Epoch 43/200\n",
            "46/46 - 0s - loss: 546.6497 - 90ms/epoch - 2ms/step\n",
            "Epoch 44/200\n",
            "46/46 - 0s - loss: 543.4313 - 88ms/epoch - 2ms/step\n",
            "Epoch 45/200\n",
            "46/46 - 0s - loss: 539.7460 - 93ms/epoch - 2ms/step\n",
            "Epoch 46/200\n",
            "46/46 - 0s - loss: 539.1476 - 102ms/epoch - 2ms/step\n",
            "Epoch 47/200\n",
            "46/46 - 0s - loss: 538.6903 - 103ms/epoch - 2ms/step\n",
            "Epoch 48/200\n",
            "46/46 - 0s - loss: 540.0669 - 91ms/epoch - 2ms/step\n",
            "Epoch 49/200\n",
            "46/46 - 0s - loss: 538.7515 - 89ms/epoch - 2ms/step\n",
            "Epoch 50/200\n",
            "46/46 - 0s - loss: 556.5274 - 94ms/epoch - 2ms/step\n",
            "Epoch 51/200\n",
            "46/46 - 0s - loss: 533.2576 - 96ms/epoch - 2ms/step\n",
            "Epoch 52/200\n",
            "46/46 - 0s - loss: 546.8175 - 91ms/epoch - 2ms/step\n",
            "Epoch 53/200\n",
            "46/46 - 0s - loss: 535.3866 - 96ms/epoch - 2ms/step\n",
            "Epoch 54/200\n",
            "46/46 - 0s - loss: 553.3412 - 90ms/epoch - 2ms/step\n",
            "Epoch 55/200\n",
            "46/46 - 0s - loss: 534.6923 - 96ms/epoch - 2ms/step\n",
            "Epoch 56/200\n",
            "46/46 - 0s - loss: 538.2523 - 97ms/epoch - 2ms/step\n",
            "Epoch 57/200\n",
            "46/46 - 0s - loss: 549.2510 - 91ms/epoch - 2ms/step\n",
            "Epoch 58/200\n",
            "46/46 - 0s - loss: 536.3004 - 94ms/epoch - 2ms/step\n",
            "Epoch 59/200\n",
            "46/46 - 0s - loss: 539.9868 - 91ms/epoch - 2ms/step\n",
            "Epoch 60/200\n",
            "46/46 - 0s - loss: 541.0283 - 96ms/epoch - 2ms/step\n",
            "Epoch 61/200\n",
            "46/46 - 0s - loss: 533.2593 - 95ms/epoch - 2ms/step\n",
            "Epoch 62/200\n",
            "46/46 - 0s - loss: 530.1983 - 94ms/epoch - 2ms/step\n",
            "Epoch 63/200\n",
            "46/46 - 0s - loss: 536.1659 - 101ms/epoch - 2ms/step\n",
            "Epoch 64/200\n",
            "46/46 - 0s - loss: 534.2803 - 95ms/epoch - 2ms/step\n",
            "Epoch 65/200\n",
            "46/46 - 0s - loss: 532.2631 - 95ms/epoch - 2ms/step\n",
            "Epoch 66/200\n",
            "46/46 - 0s - loss: 545.9499 - 93ms/epoch - 2ms/step\n",
            "Epoch 67/200\n",
            "46/46 - 0s - loss: 535.9120 - 93ms/epoch - 2ms/step\n",
            "Epoch 68/200\n",
            "46/46 - 0s - loss: 526.9875 - 113ms/epoch - 2ms/step\n",
            "Epoch 69/200\n",
            "46/46 - 0s - loss: 552.2737 - 91ms/epoch - 2ms/step\n",
            "Epoch 70/200\n",
            "46/46 - 0s - loss: 529.7751 - 91ms/epoch - 2ms/step\n",
            "Epoch 71/200\n",
            "46/46 - 0s - loss: 529.7903 - 95ms/epoch - 2ms/step\n",
            "Epoch 72/200\n",
            "46/46 - 0s - loss: 533.9525 - 92ms/epoch - 2ms/step\n",
            "Epoch 73/200\n",
            "46/46 - 0s - loss: 534.1425 - 104ms/epoch - 2ms/step\n",
            "Epoch 74/200\n",
            "46/46 - 0s - loss: 537.8480 - 92ms/epoch - 2ms/step\n",
            "Epoch 75/200\n",
            "46/46 - 0s - loss: 531.2401 - 91ms/epoch - 2ms/step\n",
            "Epoch 76/200\n",
            "46/46 - 0s - loss: 540.5334 - 91ms/epoch - 2ms/step\n",
            "Epoch 77/200\n",
            "46/46 - 0s - loss: 536.0597 - 94ms/epoch - 2ms/step\n",
            "Epoch 78/200\n",
            "46/46 - 0s - loss: 525.3311 - 92ms/epoch - 2ms/step\n",
            "Epoch 79/200\n",
            "46/46 - 0s - loss: 529.3382 - 90ms/epoch - 2ms/step\n",
            "Epoch 80/200\n",
            "46/46 - 0s - loss: 536.0274 - 91ms/epoch - 2ms/step\n",
            "Epoch 81/200\n",
            "46/46 - 0s - loss: 535.3360 - 91ms/epoch - 2ms/step\n",
            "Epoch 82/200\n",
            "46/46 - 0s - loss: 543.3834 - 105ms/epoch - 2ms/step\n",
            "Epoch 83/200\n",
            "46/46 - 0s - loss: 523.9153 - 104ms/epoch - 2ms/step\n",
            "Epoch 84/200\n",
            "46/46 - 0s - loss: 527.6074 - 93ms/epoch - 2ms/step\n",
            "Epoch 85/200\n",
            "46/46 - 0s - loss: 540.8998 - 92ms/epoch - 2ms/step\n",
            "Epoch 86/200\n",
            "46/46 - 0s - loss: 528.4919 - 94ms/epoch - 2ms/step\n",
            "Epoch 87/200\n",
            "46/46 - 0s - loss: 516.3188 - 92ms/epoch - 2ms/step\n",
            "Epoch 88/200\n",
            "46/46 - 0s - loss: 522.1646 - 96ms/epoch - 2ms/step\n",
            "Epoch 89/200\n",
            "46/46 - 0s - loss: 521.0878 - 91ms/epoch - 2ms/step\n",
            "Epoch 90/200\n",
            "46/46 - 0s - loss: 524.3508 - 98ms/epoch - 2ms/step\n",
            "Epoch 91/200\n",
            "46/46 - 0s - loss: 524.4205 - 96ms/epoch - 2ms/step\n",
            "Epoch 92/200\n",
            "46/46 - 0s - loss: 523.6929 - 93ms/epoch - 2ms/step\n",
            "Epoch 93/200\n",
            "46/46 - 0s - loss: 519.2479 - 93ms/epoch - 2ms/step\n",
            "Epoch 94/200\n",
            "46/46 - 0s - loss: 525.0283 - 96ms/epoch - 2ms/step\n",
            "Epoch 95/200\n",
            "46/46 - 0s - loss: 518.7251 - 99ms/epoch - 2ms/step\n",
            "Epoch 96/200\n",
            "46/46 - 0s - loss: 513.6580 - 90ms/epoch - 2ms/step\n",
            "Epoch 97/200\n",
            "46/46 - 0s - loss: 517.2687 - 94ms/epoch - 2ms/step\n",
            "Epoch 98/200\n",
            "46/46 - 0s - loss: 523.6867 - 90ms/epoch - 2ms/step\n",
            "Epoch 99/200\n",
            "46/46 - 0s - loss: 521.3824 - 91ms/epoch - 2ms/step\n",
            "Epoch 100/200\n",
            "46/46 - 0s - loss: 520.6677 - 94ms/epoch - 2ms/step\n",
            "Epoch 101/200\n",
            "46/46 - 0s - loss: 514.3044 - 88ms/epoch - 2ms/step\n",
            "Epoch 102/200\n",
            "46/46 - 0s - loss: 518.0201 - 91ms/epoch - 2ms/step\n",
            "Epoch 103/200\n",
            "46/46 - 0s - loss: 535.2364 - 91ms/epoch - 2ms/step\n",
            "Epoch 104/200\n",
            "46/46 - 0s - loss: 515.7543 - 102ms/epoch - 2ms/step\n",
            "Epoch 105/200\n",
            "46/46 - 0s - loss: 515.3925 - 89ms/epoch - 2ms/step\n",
            "Epoch 106/200\n",
            "46/46 - 0s - loss: 537.8715 - 90ms/epoch - 2ms/step\n",
            "Epoch 107/200\n",
            "46/46 - 0s - loss: 515.3762 - 97ms/epoch - 2ms/step\n",
            "Epoch 108/200\n",
            "46/46 - 0s - loss: 522.8091 - 102ms/epoch - 2ms/step\n",
            "Epoch 109/200\n",
            "46/46 - 0s - loss: 511.9988 - 96ms/epoch - 2ms/step\n",
            "Epoch 110/200\n",
            "46/46 - 0s - loss: 511.8471 - 92ms/epoch - 2ms/step\n",
            "Epoch 111/200\n",
            "46/46 - 0s - loss: 521.9807 - 93ms/epoch - 2ms/step\n",
            "Epoch 112/200\n",
            "46/46 - 0s - loss: 528.7768 - 99ms/epoch - 2ms/step\n",
            "Epoch 113/200\n",
            "46/46 - 0s - loss: 522.6995 - 107ms/epoch - 2ms/step\n",
            "Epoch 114/200\n",
            "46/46 - 0s - loss: 509.6732 - 115ms/epoch - 3ms/step\n",
            "Epoch 115/200\n",
            "46/46 - 0s - loss: 523.9551 - 102ms/epoch - 2ms/step\n",
            "Epoch 116/200\n",
            "46/46 - 0s - loss: 525.9297 - 97ms/epoch - 2ms/step\n",
            "Epoch 117/200\n",
            "46/46 - 0s - loss: 498.3019 - 96ms/epoch - 2ms/step\n",
            "Epoch 118/200\n",
            "46/46 - 0s - loss: 573.8411 - 92ms/epoch - 2ms/step\n",
            "Epoch 119/200\n",
            "46/46 - 0s - loss: 521.1108 - 92ms/epoch - 2ms/step\n",
            "Epoch 120/200\n",
            "46/46 - 0s - loss: 508.2141 - 93ms/epoch - 2ms/step\n",
            "Epoch 121/200\n",
            "46/46 - 0s - loss: 515.3841 - 101ms/epoch - 2ms/step\n",
            "Epoch 122/200\n",
            "46/46 - 0s - loss: 511.5397 - 92ms/epoch - 2ms/step\n",
            "Epoch 123/200\n",
            "46/46 - 0s - loss: 530.9354 - 97ms/epoch - 2ms/step\n",
            "Epoch 124/200\n",
            "46/46 - 0s - loss: 507.9482 - 101ms/epoch - 2ms/step\n",
            "Epoch 125/200\n",
            "46/46 - 0s - loss: 507.0622 - 95ms/epoch - 2ms/step\n",
            "Epoch 126/200\n",
            "46/46 - 0s - loss: 502.2882 - 91ms/epoch - 2ms/step\n",
            "Epoch 127/200\n",
            "46/46 - 0s - loss: 508.0619 - 93ms/epoch - 2ms/step\n",
            "Epoch 128/200\n",
            "46/46 - 0s - loss: 505.1429 - 96ms/epoch - 2ms/step\n",
            "Epoch 129/200\n",
            "46/46 - 0s - loss: 514.7155 - 98ms/epoch - 2ms/step\n",
            "Epoch 130/200\n",
            "46/46 - 0s - loss: 533.7625 - 92ms/epoch - 2ms/step\n",
            "Epoch 131/200\n",
            "46/46 - 0s - loss: 515.4318 - 89ms/epoch - 2ms/step\n",
            "Epoch 132/200\n",
            "46/46 - 0s - loss: 518.3476 - 96ms/epoch - 2ms/step\n",
            "Epoch 133/200\n",
            "46/46 - 0s - loss: 516.5029 - 91ms/epoch - 2ms/step\n",
            "Epoch 134/200\n",
            "46/46 - 0s - loss: 508.5195 - 107ms/epoch - 2ms/step\n",
            "Epoch 135/200\n",
            "46/46 - 0s - loss: 506.8240 - 91ms/epoch - 2ms/step\n",
            "Epoch 136/200\n",
            "46/46 - 0s - loss: 507.4348 - 93ms/epoch - 2ms/step\n",
            "Epoch 137/200\n",
            "46/46 - 0s - loss: 520.0573 - 92ms/epoch - 2ms/step\n",
            "Epoch 138/200\n",
            "46/46 - 0s - loss: 504.5515 - 90ms/epoch - 2ms/step\n",
            "Epoch 139/200\n",
            "46/46 - 0s - loss: 540.4358 - 91ms/epoch - 2ms/step\n",
            "Epoch 140/200\n",
            "46/46 - 0s - loss: 519.8140 - 97ms/epoch - 2ms/step\n",
            "Epoch 141/200\n",
            "46/46 - 0s - loss: 521.9927 - 90ms/epoch - 2ms/step\n",
            "Epoch 142/200\n",
            "46/46 - 0s - loss: 496.4699 - 95ms/epoch - 2ms/step\n",
            "Epoch 143/200\n",
            "46/46 - 0s - loss: 503.3888 - 93ms/epoch - 2ms/step\n",
            "Epoch 144/200\n",
            "46/46 - 0s - loss: 505.2882 - 93ms/epoch - 2ms/step\n",
            "Epoch 145/200\n",
            "46/46 - 0s - loss: 498.8366 - 103ms/epoch - 2ms/step\n",
            "Epoch 146/200\n",
            "46/46 - 0s - loss: 500.5847 - 95ms/epoch - 2ms/step\n",
            "Epoch 147/200\n",
            "46/46 - 0s - loss: 507.8682 - 91ms/epoch - 2ms/step\n",
            "Epoch 148/200\n",
            "46/46 - 0s - loss: 505.9651 - 92ms/epoch - 2ms/step\n",
            "Epoch 149/200\n",
            "46/46 - 0s - loss: 499.1423 - 94ms/epoch - 2ms/step\n",
            "Epoch 150/200\n",
            "46/46 - 0s - loss: 513.9975 - 92ms/epoch - 2ms/step\n",
            "Epoch 151/200\n",
            "46/46 - 0s - loss: 521.3655 - 97ms/epoch - 2ms/step\n",
            "Epoch 152/200\n",
            "46/46 - 0s - loss: 496.1677 - 97ms/epoch - 2ms/step\n",
            "Epoch 153/200\n",
            "46/46 - 0s - loss: 503.9972 - 90ms/epoch - 2ms/step\n",
            "Epoch 154/200\n",
            "46/46 - 0s - loss: 520.9302 - 90ms/epoch - 2ms/step\n",
            "Epoch 155/200\n",
            "46/46 - 0s - loss: 500.3427 - 106ms/epoch - 2ms/step\n",
            "Epoch 156/200\n",
            "46/46 - 0s - loss: 500.4103 - 102ms/epoch - 2ms/step\n",
            "Epoch 157/200\n",
            "46/46 - 0s - loss: 499.1944 - 93ms/epoch - 2ms/step\n",
            "Epoch 158/200\n",
            "46/46 - 0s - loss: 527.5872 - 96ms/epoch - 2ms/step\n",
            "Epoch 159/200\n",
            "46/46 - 0s - loss: 498.5145 - 95ms/epoch - 2ms/step\n",
            "Epoch 160/200\n",
            "46/46 - 0s - loss: 498.9993 - 90ms/epoch - 2ms/step\n",
            "Epoch 161/200\n",
            "46/46 - 0s - loss: 496.4622 - 90ms/epoch - 2ms/step\n",
            "Epoch 162/200\n",
            "46/46 - 0s - loss: 518.0144 - 93ms/epoch - 2ms/step\n",
            "Epoch 163/200\n",
            "46/46 - 0s - loss: 492.4502 - 91ms/epoch - 2ms/step\n",
            "Epoch 164/200\n",
            "46/46 - 0s - loss: 505.3112 - 98ms/epoch - 2ms/step\n",
            "Epoch 165/200\n",
            "46/46 - 0s - loss: 500.6086 - 103ms/epoch - 2ms/step\n",
            "Epoch 166/200\n",
            "46/46 - 0s - loss: 497.7597 - 95ms/epoch - 2ms/step\n",
            "Epoch 167/200\n",
            "46/46 - 0s - loss: 534.0649 - 91ms/epoch - 2ms/step\n",
            "Epoch 168/200\n",
            "46/46 - 0s - loss: 509.1065 - 92ms/epoch - 2ms/step\n",
            "Epoch 169/200\n",
            "46/46 - 0s - loss: 522.7477 - 95ms/epoch - 2ms/step\n",
            "Epoch 170/200\n",
            "46/46 - 0s - loss: 502.6575 - 93ms/epoch - 2ms/step\n",
            "Epoch 171/200\n",
            "46/46 - 0s - loss: 510.7406 - 95ms/epoch - 2ms/step\n",
            "Epoch 172/200\n",
            "46/46 - 0s - loss: 522.4411 - 94ms/epoch - 2ms/step\n",
            "Epoch 173/200\n",
            "46/46 - 0s - loss: 492.1499 - 90ms/epoch - 2ms/step\n",
            "Epoch 174/200\n",
            "46/46 - 0s - loss: 490.8721 - 94ms/epoch - 2ms/step\n",
            "Epoch 175/200\n",
            "46/46 - 0s - loss: 500.9686 - 104ms/epoch - 2ms/step\n",
            "Epoch 176/200\n",
            "46/46 - 0s - loss: 528.6055 - 100ms/epoch - 2ms/step\n",
            "Epoch 177/200\n",
            "46/46 - 0s - loss: 524.1375 - 92ms/epoch - 2ms/step\n",
            "Epoch 178/200\n",
            "46/46 - 0s - loss: 489.0659 - 103ms/epoch - 2ms/step\n",
            "Epoch 179/200\n",
            "46/46 - 0s - loss: 493.6833 - 99ms/epoch - 2ms/step\n",
            "Epoch 180/200\n",
            "46/46 - 0s - loss: 504.5718 - 90ms/epoch - 2ms/step\n",
            "Epoch 181/200\n",
            "46/46 - 0s - loss: 511.0183 - 92ms/epoch - 2ms/step\n",
            "Epoch 182/200\n",
            "46/46 - 0s - loss: 497.5465 - 94ms/epoch - 2ms/step\n",
            "Epoch 183/200\n",
            "46/46 - 0s - loss: 512.0868 - 90ms/epoch - 2ms/step\n",
            "Epoch 184/200\n",
            "46/46 - 0s - loss: 494.2510 - 91ms/epoch - 2ms/step\n",
            "Epoch 185/200\n",
            "46/46 - 0s - loss: 489.8349 - 101ms/epoch - 2ms/step\n",
            "Epoch 186/200\n",
            "46/46 - 0s - loss: 503.3430 - 90ms/epoch - 2ms/step\n",
            "Epoch 187/200\n",
            "46/46 - 0s - loss: 496.9248 - 89ms/epoch - 2ms/step\n",
            "Epoch 188/200\n",
            "46/46 - 0s - loss: 498.7047 - 96ms/epoch - 2ms/step\n",
            "Epoch 189/200\n",
            "46/46 - 0s - loss: 501.8258 - 110ms/epoch - 2ms/step\n",
            "Epoch 190/200\n",
            "46/46 - 0s - loss: 493.5473 - 91ms/epoch - 2ms/step\n",
            "Epoch 191/200\n",
            "46/46 - 0s - loss: 504.6700 - 90ms/epoch - 2ms/step\n",
            "Epoch 192/200\n",
            "46/46 - 0s - loss: 486.2536 - 92ms/epoch - 2ms/step\n",
            "Epoch 193/200\n",
            "46/46 - 0s - loss: 500.1224 - 94ms/epoch - 2ms/step\n",
            "Epoch 194/200\n",
            "46/46 - 0s - loss: 489.2229 - 90ms/epoch - 2ms/step\n",
            "Epoch 195/200\n",
            "46/46 - 0s - loss: 512.6379 - 93ms/epoch - 2ms/step\n",
            "Epoch 196/200\n",
            "46/46 - 0s - loss: 494.9247 - 109ms/epoch - 2ms/step\n",
            "Epoch 197/200\n",
            "46/46 - 0s - loss: 489.6569 - 90ms/epoch - 2ms/step\n",
            "Epoch 198/200\n",
            "46/46 - 0s - loss: 493.4582 - 96ms/epoch - 2ms/step\n",
            "Epoch 199/200\n",
            "46/46 - 0s - loss: 489.6298 - 105ms/epoch - 2ms/step\n",
            "Epoch 200/200\n",
            "46/46 - 0s - loss: 515.0394 - 93ms/epoch - 2ms/step\n",
            "Train Score: 490.66 MSE (22.15 RMSE)\n",
            "Test Score: 1902.14 MSE (43.61 RMSE)\n"
          ]
        }
      ]
    },
    {
      "cell_type": "markdown",
      "source": [
        "# one-hot-encoding\n",
        "### 14:00"
      ],
      "metadata": {
        "id": "zpWJLw6WXtsU"
      }
    },
    {
      "cell_type": "code",
      "source": [
        "# 입력 텍스트 데이터 -> 숫자 임베딩 -> target 예측 -> \n",
        "char_arr = [c for c in 'SEPabcdefghijklmnopqrstuvwxyz단어나무게임벨트놀이자료']\n",
        "# ['S', 'E', 'P', ............]\n",
        "num_dic = {n: i for i, n in enumerate(char_arr)}\n",
        "print(num_dic)\n",
        "dic_len = len(num_dic)\n",
        "print(dic_len) # 41자 : 100000 -> 100000개 짜리 벡터 (희소행렬)\n",
        "seq_data = [['word', '단어'], ['wood', '나무'],\n",
        "            ['game', '놀이'], ['girl', '소녀'],\n",
        "            ['test', '연습'], ['love', '사랑']]"
      ],
      "metadata": {
        "colab": {
          "base_uri": "https://localhost:8080/"
        },
        "id": "lCR2ynHIC2Bn",
        "outputId": "3791554f-f940-40df-a099-6a8b7dd2c03b"
      },
      "execution_count": 23,
      "outputs": [
        {
          "output_type": "stream",
          "name": "stdout",
          "text": [
            "{'S': 0, 'E': 1, 'P': 2, 'a': 3, 'b': 4, 'c': 5, 'd': 6, 'e': 7, 'f': 8, 'g': 9, 'h': 10, 'i': 11, 'j': 12, 'k': 13, 'l': 14, 'm': 15, 'n': 16, 'o': 17, 'p': 18, 'q': 19, 'r': 20, 's': 21, 't': 22, 'u': 23, 'v': 24, 'w': 25, 'x': 26, 'y': 27, 'z': 28, '단': 29, '어': 30, '나': 31, '무': 32, '게': 33, '임': 34, '벨': 35, '트': 36, '놀': 37, '이': 38, '자': 39, '료': 40}\n",
            "41\n"
          ]
        }
      ]
    },
    {
      "cell_type": "code",
      "source": [
        "import tensorflow as tf\n",
        "import numpy as np\n",
        "\n",
        "char_arr = [c for c in \"SEPabcdefghijklmnopqrstuvwxyz단어나무놀이소녀키스사랑봉구우루\"]\n",
        "num_dic = {n: i for i, n in enumerate(char_arr)}\n",
        "dic_len = len(num_dic)\n",
        "\n",
        "seq_data = [['word', \"단어\"], [\"wood\", \"나무\"], [\"game\", \"놀이\"], [\"girl\", \"소녀\"], \n",
        "            [\"kiss\", \"키스\"], [\"love\", \"사랑\"], [\"bong\", \"봉구\"], [\"uruu\", \"우루\"]]"
      ],
      "metadata": {
        "id": "lx32pJZ7Ev8I"
      },
      "execution_count": 38,
      "outputs": []
    },
    {
      "cell_type": "code",
      "source": [
        "# Embedding 함수 14:07\n",
        "import numpy as np\n",
        "def make_batch(seq_data): # seq 2 seq\n",
        "  input_batch = [] # 입력 : h_state (전단계의 셀에서 출력된 결과)\n",
        "  output_batch = [] # 번역입력\n",
        "  target_batch = [] # 예측\n",
        "  \n",
        "  for seq in seq_data: # ['word', '단어']\n",
        "    input = [num_dic[n] for n in seq[0]] # 'word' :  w:25으로 매핑시켜놓은거고 , o:17, r:20, d:6 => [25, 17, 20, 6]\n",
        "    output = [num_dic[n] for n in ('S' + seq[1])] # 시작  # 단 : 29,  어 : 30 => 결과적으로 이렇게 만들어지죠 [0, 29, 30]\n",
        "    target = [num_dic[n] for n in (seq[1] + 'E')] # [29, 30, 1] # 종료지점\n",
        "    # one-hot-encoding\n",
        "    ## 쭉 대각선으로 표시하게 되면 x를 표시하게 된다고 하면\n",
        "    # 1, 0 0 0 0 0 0 0000000 : 41차 1차원벡터\n",
        "    # 0,1,00000000000000000000\n",
        "    # 0 0 1 00 00 0\n",
        "    # 0 0 0 1 0 0 0 0 0\n",
        "    input_batch.append(np.eye(dic_len)[input]) # 단위행렬을 만드는 함수 identity ## 14:15\n",
        "    # [ 0 0 0 0 0 0 0 0 0 0 0 0 0 0 0 0 0 0 0 0 1 00000000] 이런 벡터가 하나 만들어지고\n",
        "    # [ 0 0 0 0 0 0 0 0 0 0 0 0 0 0 0 0 1 0 0 0 0 0 0 0 0 0]\n",
        "    ## 전체 몇차원 벡터?\n",
        "    # 4 x 41짜리 벡터가 행렬이 만들어지는거죠?\n",
        "    ## 똑같은 원리로 \n",
        "    output_batch.append(np.eye(dic_len)[output]) # 출력 행렬 3 x 41\n",
        "    target_batch.append(target) # 종속변수 행렬이 3 x 41개로 만들어지겠죠\n",
        "  return input_batch, output_batch, target_batch"
      ],
      "metadata": {
        "id": "gNzVXXTiHn-o"
      },
      "execution_count": 39,
      "outputs": []
    },
    {
      "cell_type": "code",
      "source": [
        "def make_batch(seq_data):\n",
        "    input_batch = []\n",
        "    output_batch = []\n",
        "    target_batch = []\n",
        "    \n",
        "    for seq in seq_data:\n",
        "        input = [num_dic[n] for n in seq[0]]\n",
        "        output = [num_dic[n] for n in (\"S\" + seq[1])]\n",
        "        target = [num_dic[n] for n in (seq[1] + \"E\")]\n",
        "        \n",
        "        input_batch.append(np.eye(dic_len)[input])\n",
        "        output_batch.append(np.eye(dic_len)[output])\n",
        "        target_batch.append(target)\n",
        "        \n",
        "    return input_batch, output_batch, target_batch"
      ],
      "metadata": {
        "id": "AsR9OaRFDxkU"
      },
      "execution_count": 40,
      "outputs": []
    },
    {
      "cell_type": "code",
      "source": [
        "import numpy as np"
      ],
      "metadata": {
        "id": "mId8XprIcEks"
      },
      "execution_count": 41,
      "outputs": []
    },
    {
      "cell_type": "code",
      "source": [
        "input_batch, output_batch, target_batch = make_batch(seq_data)"
      ],
      "metadata": {
        "id": "tFZHZEWBIMJ8"
      },
      "execution_count": 42,
      "outputs": []
    },
    {
      "cell_type": "code",
      "source": [
        "len(input_batch)"
      ],
      "metadata": {
        "colab": {
          "base_uri": "https://localhost:8080/"
        },
        "id": "gfrEbAFRD8WT",
        "outputId": "3226131e-3482-4a2d-af22-e6238a7ef76d"
      },
      "execution_count": 43,
      "outputs": [
        {
          "output_type": "execute_result",
          "data": {
            "text/plain": [
              "8"
            ]
          },
          "metadata": {},
          "execution_count": 43
        }
      ]
    },
    {
      "cell_type": "code",
      "source": [
        "## 14:26"
      ],
      "metadata": {
        "id": "_YDMZx0wdSoU"
      },
      "execution_count": null,
      "outputs": []
    },
    {
      "cell_type": "code",
      "source": [
        "# 시간 데이터 (자기상관성) => 독립변수 + 종속변수\n",
        "from keras.preprocessing.sequence import TimeseriesGenerator\n",
        "import numpy as np\n",
        "data = np.array([[i] for i in range(50)]) # 0 ~ 49까지 [ [0], [1], [2], ... ] 이렇게 바꾸라는 것\n",
        "targets = np.array([[i] for i in range(50)]) # 0 ~ 49까지 [ [0], [1], [2], ... ] 이렇게 바꾸라는 것\n",
        "print(data[:10])\n",
        "# 4개씩 (분기별로 종속성을 가지고 있는 경우)\n",
        "data_gen = TimeseriesGenerator(data, targets,\n",
        "                               length=10, sampling_rate=2,\n",
        "                               batch_size=2)\n",
        "assert len(data_gen) == 20\n",
        "batch_0 = data_gen[0] # tuple 데이터이다.\n",
        "print(\"데이터 구조 \", batch_0)\n",
        "x, y = batch_0\n",
        "# 검증에러 ## 에러를 검증하기 위해 쓰는 것 assert np.array\n",
        "## 프로젝트 할 때는 주석 잡을 것\n",
        "## 프로그램 만들 때는 없어야한다\n",
        "assert np.array_equal(x,\n",
        "                      np.array([[[0], [2], [4], [6], [8]],\n",
        "                               [[1], [3], [5], [7], [9]]])) # 2 4 6 8 10, 3부터 시작하면 3 5 7 9 11\n",
        "                               ## 괄호 개수 잘 파악\n",
        "assert np.array_equal(y,\n",
        "                      np.array([[10], [11]]))\n",
        "print(\"마지막에 생성된 데이터\")\n",
        "data_gen[19] ## 19번째를 보게 되어지니까 array([[48],[49]])"
      ],
      "metadata": {
        "id": "3DOAf8cFITnc",
        "colab": {
          "base_uri": "https://localhost:8080/"
        },
        "outputId": "83a04451-bb1a-4216-b01a-c1953a95de8c"
      },
      "execution_count": 44,
      "outputs": [
        {
          "output_type": "stream",
          "name": "stdout",
          "text": [
            "[[0]\n",
            " [1]\n",
            " [2]\n",
            " [3]\n",
            " [4]\n",
            " [5]\n",
            " [6]\n",
            " [7]\n",
            " [8]\n",
            " [9]]\n",
            "데이터 구조  (array([[[0],\n",
            "        [2],\n",
            "        [4],\n",
            "        [6],\n",
            "        [8]],\n",
            "\n",
            "       [[1],\n",
            "        [3],\n",
            "        [5],\n",
            "        [7],\n",
            "        [9]]]), array([[10],\n",
            "       [11]]))\n",
            "마지막에 생성된 데이터\n"
          ]
        },
        {
          "output_type": "execute_result",
          "data": {
            "text/plain": [
              "(array([[[38],\n",
              "         [40],\n",
              "         [42],\n",
              "         [44],\n",
              "         [46]],\n",
              " \n",
              "        [[39],\n",
              "         [41],\n",
              "         [43],\n",
              "         [45],\n",
              "         [47]]]), array([[48],\n",
              "        [49]]))"
            ]
          },
          "metadata": {},
          "execution_count": 44
        }
      ]
    },
    {
      "cell_type": "markdown",
      "source": [
        "# 순위"
      ],
      "metadata": {
        "id": "KY83Wo4rfD3v"
      }
    },
    {
      "cell_type": "code",
      "source": [
        "import re\n",
        "import numpy as np\n",
        "from tensorflow.keras.preprocessing.sequence import pad_sequences\n",
        "from tensorflow.keras.preprocessing.text import one_hot\n",
        "from tensorflow.keras.models import Sequential\n",
        "from tensorflow.keras.layers import Embedding, Flatten, Dense\n",
        "docs = ['Well done!', 'Good work', 'Great effort', 'nice work', 'Excellent!',\n",
        "        'Weak', 'Poor effort!', 'not good', 'poor work', 'Could have done better.']"
      ],
      "metadata": {
        "id": "J6SFeEeydGT2"
      },
      "execution_count": 45,
      "outputs": []
    },
    {
      "cell_type": "code",
      "source": [
        "labels = [1, 1, 1, 1, 1, 0, 0, 0, 0, 0] # 긍정, 부정 분류하는 것\n",
        "own_embedding_vocab_size = 10\n",
        "# 10개로 구성된 벡터\n",
        "# Well, done, good, work, great, effort, nice, excellent, weak, poor, not, could, have, better\n",
        "# Great, nice, well [3, 7]. [1, 5] 번호가 부여가 되었죠 이게 원핫인코딩입니다\n",
        "encoded_docs_oe = [one_hot(d, own_embedding_vocab_size) for d in docs]\n",
        "print(encoded_docs_oe)\n",
        "maxlen = 5\n",
        "# cnn의 padding처럼 단어도 패딩 => 사이즈를 일치시키기 위해서 ( 텍스트는 사이즈 일치 : one-hot-encoding, word2vec, fasttext, glove)\n",
        "padded_docs_oe = pad_sequences(encoded_docs_oe, maxlen=maxlen, padding='post')\n",
        "print(padded_docs_oe)\n",
        "model = Sequential()\n",
        "model.add(Embedding(input_dim=own_embedding_vocab_size, # 10개로 구성된 단어\n",
        "                    output_dim=32, # 단어 간의 유사성을 고려해서 임베딩 (유사성을 고려해주는 방식은 word2vec이죠?) => 벡터로 변환\n",
        "                    input_length=maxlen)) # 길이 사이즈를 지정\n",
        "model.add(Flatten())\n",
        "model.add(Dense(1, activation='sigmoid')) #FFNN : 0.5를 기준으로 1.0으로 예측\n",
        "model.compile(optimizer='adam', loss='binary_crossentropy', metrics=['acc'])\n",
        "print(model.summary())"
      ],
      "metadata": {
        "colab": {
          "base_uri": "https://localhost:8080/"
        },
        "id": "eTRbq42qfmsC",
        "outputId": "3c6bbc8e-cc6f-4dfa-96db-86815b76073b"
      },
      "execution_count": 46,
      "outputs": [
        {
          "output_type": "stream",
          "name": "stdout",
          "text": [
            "[[5, 4], [7, 7], [1, 9], [6, 7], [6], [7], [1, 9], [5, 7], [1, 7], [7, 7, 4, 4]]\n",
            "[[5 4 0 0 0]\n",
            " [7 7 0 0 0]\n",
            " [1 9 0 0 0]\n",
            " [6 7 0 0 0]\n",
            " [6 0 0 0 0]\n",
            " [7 0 0 0 0]\n",
            " [1 9 0 0 0]\n",
            " [5 7 0 0 0]\n",
            " [1 7 0 0 0]\n",
            " [7 7 4 4 0]]\n",
            "Model: \"sequential_2\"\n",
            "_________________________________________________________________\n",
            " Layer (type)                Output Shape              Param #   \n",
            "=================================================================\n",
            " embedding (Embedding)       (None, 5, 32)             320       \n",
            "                                                                 \n",
            " flatten_1 (Flatten)         (None, 160)               0         \n",
            "                                                                 \n",
            " dense_4 (Dense)             (None, 1)                 161       \n",
            "                                                                 \n",
            "=================================================================\n",
            "Total params: 481\n",
            "Trainable params: 481\n",
            "Non-trainable params: 0\n",
            "_________________________________________________________________\n",
            "None\n"
          ]
        }
      ]
    },
    {
      "cell_type": "code",
      "source": [
        "type(labels)"
      ],
      "metadata": {
        "colab": {
          "base_uri": "https://localhost:8080/"
        },
        "id": "2iKL009Hp237",
        "outputId": "323be4ba-2707-4e69-bb89-93c4c76cfcc2"
      },
      "execution_count": 47,
      "outputs": [
        {
          "output_type": "execute_result",
          "data": {
            "text/plain": [
              "list"
            ]
          },
          "metadata": {},
          "execution_count": 47
        }
      ]
    },
    {
      "cell_type": "code",
      "source": [
        "import tensorflow as tf\n",
        "import numpy as np\n",
        "labels = np.array(labels)\n",
        "labels = labels.reshape((-1, 1))\n",
        "#model.fit(tf.Tensor(padded_docs_oe), labels, epochs=50, verbose=0)\n",
        "loss, accuracy = model.evaluate(padded_docs_oe, labels, verbose=0)\n",
        "print('Accuracy: %0.3f' % accuracy)"
      ],
      "metadata": {
        "colab": {
          "base_uri": "https://localhost:8080/"
        },
        "id": "U7OIoRzCgCrB",
        "outputId": "19f704a8-1b46-4e89-e61e-b45ff085e85c"
      },
      "execution_count": 53,
      "outputs": [
        {
          "output_type": "stream",
          "name": "stdout",
          "text": [
            "Accuracy: 0.500\n"
          ]
        }
      ]
    },
    {
      "cell_type": "code",
      "source": [
        "import numpy as np\n",
        "np.random.seed(1337)\n",
        "\n",
        "from tensorflow.keras.datasets import reuters\n",
        "from tensorflow.keras.models import Sequential\n",
        "from tensorflow.keras.layers import Dense, Dropout, Activation\n",
        "from tensorflow.keras.utils import to_categorical\n",
        "from tensorflow.keras.preprocessing.text import Tokenizer\n",
        "# 로이터는 신문 기사 -> 그룹별로 그룹핑 (경제, 사회, 문화, ...)\n",
        "max_words = 1000\n",
        "batch_size = 100\n",
        "nb_epoch = 200\n",
        "(X_train, y_train), (X_test, y_test) = reuters.load_data(num_words=max_words, test_split=0.2) # 8:2로 분할"
      ],
      "metadata": {
        "colab": {
          "base_uri": "https://localhost:8080/"
        },
        "id": "DlaNxHVJmAo3",
        "outputId": "7d491017-2b43-4870-ae3d-83a083847c3b"
      },
      "execution_count": 54,
      "outputs": [
        {
          "output_type": "stream",
          "name": "stdout",
          "text": [
            "Downloading data from https://storage.googleapis.com/tensorflow/tf-keras-datasets/reuters.npz\n",
            "2110848/2110848 [==============================] - 0s 0us/step\n"
          ]
        }
      ]
    },
    {
      "cell_type": "code",
      "source": [
        "type(X_train)\n",
        "X_train.shape"
      ],
      "metadata": {
        "colab": {
          "base_uri": "https://localhost:8080/"
        },
        "id": "gjtxSriEqa7C",
        "outputId": "5c694a7a-d68e-4509-e409-130cd5237a46"
      },
      "execution_count": 55,
      "outputs": [
        {
          "output_type": "execute_result",
          "data": {
            "text/plain": [
              "(8982,)"
            ]
          },
          "metadata": {},
          "execution_count": 55
        }
      ]
    },
    {
      "cell_type": "code",
      "source": [
        "nb_classes = np.max(y_train)+1 # 그룹번호를 지정할 때 0부터 시작해서 순서적으로 (가장 큰 라벨 번호 +1)\n",
        "print(nb_classes) # 46개의 기사 그룹이 분류가 되있다는 소리죠 ## 15:26\n",
        "tokenizer = Tokenizer(num_words=max_words) # 1000개의 단어로 구성\n",
        "tokenizer"
      ],
      "metadata": {
        "colab": {
          "base_uri": "https://localhost:8080/"
        },
        "id": "Yeys06hKpIMs",
        "outputId": "1e26d587-dd21-4a7f-b346-784fb3e64a31"
      },
      "execution_count": 56,
      "outputs": [
        {
          "output_type": "stream",
          "name": "stdout",
          "text": [
            "46\n"
          ]
        },
        {
          "output_type": "execute_result",
          "data": {
            "text/plain": [
              "<keras.preprocessing.text.Tokenizer at 0x7ff887cea890>"
            ]
          },
          "metadata": {},
          "execution_count": 56
        }
      ]
    },
    {
      "cell_type": "markdown",
      "source": [],
      "metadata": {
        "id": "U6s-twaBpgoj"
      }
    },
    {
      "cell_type": "code",
      "source": [
        "X_train = tokenizer.sequences_to_matrix(X_train, mode='binary') # one-hot-encoding\n",
        "X_test = tokenizer.sequences_to_matrix(X_test, mode='binary')\n",
        "# 신경망에서는 ㅡ종속변수는 반드시 one-hot-encoding 해주어야 함\n",
        "Y_train = to_categorical(y_train, nb_classes)\n",
        "Y_test = to_categorical(y_test, nb_classes)\n",
        "print(Y_train.shape) # (8982, 46)\n",
        "print(Y_train[:3])"
      ],
      "metadata": {
        "colab": {
          "base_uri": "https://localhost:8080/"
        },
        "id": "Ud-LFUgApTbb",
        "outputId": "2ad1ca84-dde8-49ab-ffac-fbbe3a28f5fb"
      },
      "execution_count": 57,
      "outputs": [
        {
          "output_type": "stream",
          "name": "stdout",
          "text": [
            "(8982, 46)\n",
            "[[0. 0. 0. 1. 0. 0. 0. 0. 0. 0. 0. 0. 0. 0. 0. 0. 0. 0. 0. 0. 0. 0. 0. 0.\n",
            "  0. 0. 0. 0. 0. 0. 0. 0. 0. 0. 0. 0. 0. 0. 0. 0. 0. 0. 0. 0. 0. 0.]\n",
            " [0. 0. 0. 0. 1. 0. 0. 0. 0. 0. 0. 0. 0. 0. 0. 0. 0. 0. 0. 0. 0. 0. 0. 0.\n",
            "  0. 0. 0. 0. 0. 0. 0. 0. 0. 0. 0. 0. 0. 0. 0. 0. 0. 0. 0. 0. 0. 0.]\n",
            " [0. 0. 0. 1. 0. 0. 0. 0. 0. 0. 0. 0. 0. 0. 0. 0. 0. 0. 0. 0. 0. 0. 0. 0.\n",
            "  0. 0. 0. 0. 0. 0. 0. 0. 0. 0. 0. 0. 0. 0. 0. 0. 0. 0. 0. 0. 0. 0.]]\n"
          ]
        }
      ]
    },
    {
      "cell_type": "markdown",
      "source": [
        "# 기사 그룹\n",
        "- 46개의 기사 그룹\n",
        "- 로이터(reuters)에는 one-hot-encoding되어진 숫자로 이뤄진 데이터가 입력"
      ],
      "metadata": {
        "id": "htRCeLWusmLM"
      }
    },
    {
      "cell_type": "code",
      "source": [
        "X_train[0] # 가장 긴 기사 : 1000 one-hot-encoding의 의미\n",
        "# 임금, 이자율, 경제성장률"
      ],
      "metadata": {
        "colab": {
          "base_uri": "https://localhost:8080/"
        },
        "id": "qavx5rrwsIN3",
        "outputId": "f5369c69-3f4b-41fa-a5be-3c879ea72a2e"
      },
      "execution_count": 58,
      "outputs": [
        {
          "output_type": "execute_result",
          "data": {
            "text/plain": [
              "array([0., 1., 1., 0., 1., 1., 1., 1., 1., 1., 1., 1., 1., 0., 0., 1., 1.,\n",
              "       1., 0., 1., 0., 0., 1., 0., 0., 1., 1., 0., 0., 1., 1., 0., 1., 0.,\n",
              "       0., 0., 0., 0., 0., 1., 0., 0., 0., 1., 1., 0., 0., 0., 1., 1., 0.,\n",
              "       0., 1., 0., 0., 0., 0., 0., 0., 0., 0., 0., 0., 0., 0., 0., 0., 1.,\n",
              "       0., 0., 0., 0., 0., 0., 0., 0., 0., 0., 0., 0., 0., 0., 0., 1., 1.,\n",
              "       0., 0., 0., 0., 1., 1., 0., 0., 0., 0., 0., 0., 0., 0., 0., 0., 0.,\n",
              "       1., 0., 0., 0., 0., 0., 0., 1., 0., 1., 0., 0., 0., 0., 0., 0., 0.,\n",
              "       0., 0., 0., 0., 0., 1., 0., 0., 0., 0., 0., 0., 0., 1., 0., 1., 0.,\n",
              "       0., 0., 0., 0., 0., 0., 0., 0., 0., 0., 0., 0., 0., 0., 0., 1., 0.,\n",
              "       0., 1., 1., 0., 0., 0., 0., 0., 0., 0., 0., 0., 0., 0., 0., 0., 0.,\n",
              "       0., 0., 0., 0., 0., 0., 0., 0., 0., 0., 0., 0., 0., 0., 0., 0., 1.,\n",
              "       0., 0., 0., 0., 0., 0., 0., 0., 0., 0., 1., 0., 0., 0., 0., 0., 0.,\n",
              "       0., 0., 0., 1., 0., 1., 0., 0., 0., 0., 0., 0., 0., 0., 0., 0., 0.,\n",
              "       0., 0., 0., 0., 0., 0., 0., 0., 0., 0., 0., 0., 0., 0., 0., 0., 0.,\n",
              "       0., 0., 0., 0., 0., 0., 0., 0., 0., 0., 0., 0., 0., 0., 0., 0., 0.,\n",
              "       0., 0., 0., 1., 0., 0., 0., 0., 0., 0., 0., 0., 0., 0., 0., 1., 0.,\n",
              "       1., 0., 0., 0., 0., 0., 0., 0., 0., 0., 0., 0., 0., 0., 0., 0., 0.,\n",
              "       0., 0., 0., 0., 0., 0., 0., 0., 0., 0., 0., 0., 0., 0., 0., 0., 0.,\n",
              "       0., 0., 0., 0., 0., 0., 0., 0., 0., 0., 0., 0., 0., 0., 0., 0., 0.,\n",
              "       0., 0., 0., 0., 0., 0., 0., 0., 0., 0., 0., 0., 0., 0., 0., 0., 0.,\n",
              "       0., 0., 0., 0., 0., 0., 0., 0., 0., 0., 0., 0., 0., 0., 0., 0., 0.,\n",
              "       0., 0., 0., 0., 0., 0., 0., 0., 0., 0., 0., 0., 1., 0., 0., 0., 0.,\n",
              "       0., 0., 0., 0., 0., 0., 0., 0., 0., 0., 0., 0., 0., 0., 0., 0., 0.,\n",
              "       0., 0., 0., 0., 0., 0., 0., 0., 0., 0., 0., 0., 0., 0., 0., 0., 0.,\n",
              "       0., 0., 0., 0., 0., 0., 0., 0., 0., 0., 0., 0., 0., 0., 0., 0., 0.,\n",
              "       0., 0., 0., 0., 0., 0., 0., 0., 0., 0., 0., 0., 0., 0., 0., 0., 0.,\n",
              "       0., 0., 0., 0., 0., 1., 0., 0., 0., 0., 0., 0., 0., 0., 0., 0., 0.,\n",
              "       0., 0., 0., 0., 0., 0., 0., 0., 0., 0., 0., 0., 0., 0., 0., 0., 0.,\n",
              "       0., 0., 0., 0., 0., 0., 1., 0., 0., 0., 0., 0., 0., 0., 0., 0., 0.,\n",
              "       0., 0., 0., 0., 0., 0., 0., 0., 0., 0., 0., 1., 0., 0., 0., 0., 0.,\n",
              "       0., 0., 0., 0., 0., 0., 0., 0., 0., 0., 0., 0., 0., 0., 0., 0., 0.,\n",
              "       0., 0., 0., 0., 0., 0., 0., 0., 0., 0., 0., 0., 0., 0., 0., 0., 0.,\n",
              "       0., 0., 0., 0., 0., 0., 0., 0., 0., 0., 0., 0., 0., 0., 0., 0., 0.,\n",
              "       0., 0., 0., 0., 0., 0., 0., 0., 0., 0., 0., 0., 0., 0., 0., 0., 0.,\n",
              "       0., 0., 0., 0., 0., 0., 0., 0., 0., 0., 0., 0., 0., 0., 0., 0., 0.,\n",
              "       0., 0., 0., 0., 0., 0., 0., 0., 0., 0., 0., 0., 0., 0., 0., 0., 0.,\n",
              "       0., 0., 0., 0., 0., 0., 0., 0., 0., 0., 0., 0., 0., 0., 0., 0., 0.,\n",
              "       0., 0., 0., 0., 0., 0., 0., 0., 0., 0., 0., 0., 0., 0., 0., 0., 0.,\n",
              "       0., 0., 0., 0., 0., 0., 0., 0., 0., 0., 0., 0., 0., 0., 0., 0., 0.,\n",
              "       0., 0., 0., 0., 0., 0., 0., 0., 0., 0., 0., 0., 0., 0., 0., 0., 0.,\n",
              "       0., 0., 0., 0., 0., 0., 0., 0., 0., 0., 0., 0., 0., 0., 0., 0., 0.,\n",
              "       0., 0., 0., 0., 0., 0., 0., 0., 0., 0., 0., 0., 0., 0., 0., 0., 0.,\n",
              "       0., 0., 0., 0., 0., 0., 0., 0., 0., 0., 0., 0., 0., 0., 0., 0., 0.,\n",
              "       0., 0., 0., 0., 0., 0., 0., 0., 0., 0., 0., 0., 0., 0., 0., 0., 0.,\n",
              "       0., 0., 0., 0., 0., 0., 0., 0., 0., 0., 0., 0., 0., 0., 0., 0., 0.,\n",
              "       0., 0., 0., 0., 0., 0., 0., 0., 0., 0., 0., 0., 0., 0., 0., 0., 0.,\n",
              "       0., 0., 0., 0., 0., 0., 0., 0., 0., 0., 0., 0., 0., 0., 0., 0., 0.,\n",
              "       0., 0., 0., 0., 0., 0., 0., 0., 0., 0., 0., 0., 0., 0., 0., 0., 0.,\n",
              "       0., 0., 0., 0., 0., 0., 0., 0., 0., 0., 0., 0., 0., 0., 0., 0., 0.,\n",
              "       0., 0., 0., 0., 0., 0., 0., 0., 0., 0., 0., 0., 0., 0., 0., 0., 0.,\n",
              "       0., 0., 0., 0., 0., 0., 0., 0., 0., 0., 0., 0., 0., 0., 1., 0., 0.,\n",
              "       0., 0., 0., 0., 0., 0., 0., 0., 0., 0., 0., 0., 0., 0., 0., 0., 0.,\n",
              "       0., 0., 0., 0., 0., 0., 0., 0., 0., 0., 0., 0., 0., 0., 0., 0., 0.,\n",
              "       0., 0., 0., 0., 0., 0., 0., 0., 0., 0., 0., 0., 0., 0., 0., 0., 0.,\n",
              "       0., 0., 0., 0., 0., 0., 0., 0., 0., 0., 0., 0., 0., 0., 0., 0., 0.,\n",
              "       0., 0., 0., 0., 0., 0., 0., 0., 0., 0., 0., 0., 0., 0., 0., 0., 0.,\n",
              "       0., 0., 0., 0., 0., 0., 0., 0., 0., 0., 0., 0., 0., 0., 0., 0., 0.,\n",
              "       0., 0., 0., 0., 0., 0., 0., 0., 0., 0., 0., 0., 0., 0., 0., 0., 0.,\n",
              "       0., 0., 0., 0., 0., 0., 0., 0., 0., 0., 0., 0., 0., 0.])"
            ]
          },
          "metadata": {},
          "execution_count": 58
        }
      ]
    },
    {
      "cell_type": "code",
      "source": [
        "# 현재 FFNN만을 이용해서 문서 분류를 실행함\n",
        "model = Sequential()\n",
        "model.add(Dense(512, input_shape=(max_words,), activation=\"relu\")) #1000x512 가중치 사이즈\n",
        "model.add(Dropout(0.5))\n",
        "model.add(Dense(nb_classes, activation=\"softmax\")) # 512 x 46\n",
        "model.compile(loss='categorical_crossentropy', optimizer='adam', metrics=['accuracy'])\n",
        "\n",
        "history = model.fit(X_train, Y_train, epochs=nb_epoch, batch_size=batch_size, verbose =0, validation_split=0.1) ## verbose는 조용히 돌아가라(머신러닝)는 뜻\n",
        "score = model.evaluate(X_test, Y_test, batch_size=batch_size, verbose=1)\n",
        "print('\\n\\nModel accuracy %.2f%%' % (score[1]*100))\n",
        "print(\"Model loss : %.2f%%\" % (score[0]*100))"
      ],
      "metadata": {
        "colab": {
          "base_uri": "https://localhost:8080/"
        },
        "id": "gICY_BetnPCU",
        "outputId": "eacd3fc4-bf05-4647-d012-3083d24e353a"
      },
      "execution_count": 59,
      "outputs": [
        {
          "output_type": "stream",
          "name": "stdout",
          "text": [
            "23/23 [==============================] - 0s 3ms/step - loss: 1.9314 - accuracy: 0.7867\n",
            "\n",
            "\n",
            "Model accuracy 78.67%\n",
            "Model loss : 193.14%\n"
          ]
        }
      ]
    },
    {
      "cell_type": "code",
      "source": [
        "from tensorflow.keras.preprocessing.text import text_to_word_sequence\n",
        "text = \"해보지 않으면 해낼 수 없다\"\n",
        "result = text_to_word_sequence(text)\n",
        "print(\"\\n원문:\\n\", text)\n",
        "print(\"\\n토큰화:\\n\", result)"
      ],
      "metadata": {
        "colab": {
          "base_uri": "https://localhost:8080/"
        },
        "id": "mJq1V0emojNB",
        "outputId": "17b2674f-cc9d-4d83-abe0-587a9f63f299"
      },
      "execution_count": 60,
      "outputs": [
        {
          "output_type": "stream",
          "name": "stdout",
          "text": [
            "\n",
            "원문:\n",
            " 해보지 않으면 해낼 수 없다\n",
            "\n",
            "토큰화:\n",
            " ['해보지', '않으면', '해낼', '수', '없다']\n"
          ]
        }
      ]
    },
    {
      "cell_type": "code",
      "source": [
        "docs = [\"너무 재밌네요\",\"최고예요\",\"참 잘 만든 영화예요\",\"추천하고 싶은 영화입니다\",\"한번 더 보고싶네요\",\"글쎄요\",\"별로예요\",\"생각보다 지루하네요\",\"연기가 어색해요\",\"재미없어요\"]\n",
        "classes = np.array([1,1,1,1,1,0,0,0,0,0]) ## array([1,1,1,1,1,0,0,0,0,0])\n",
        "\n",
        "token = Tokenizer()\n",
        "token.fit_on_texts(docs) # 미리학습\n",
        "print(token.word_index)\n",
        "x = token.texts_to_sequences(docs) # \n",
        "print(\"\\n리뷰 텍스트, 토큰화 결과:\\n\", x)"
      ],
      "metadata": {
        "colab": {
          "base_uri": "https://localhost:8080/"
        },
        "id": "Rxtma0DOtt9I",
        "outputId": "315859ca-f998-4aac-e18b-6028933db6d0"
      },
      "execution_count": 61,
      "outputs": [
        {
          "output_type": "stream",
          "name": "stdout",
          "text": [
            "{'너무': 1, '재밌네요': 2, '최고예요': 3, '참': 4, '잘': 5, '만든': 6, '영화예요': 7, '추천하고': 8, '싶은': 9, '영화입니다': 10, '한번': 11, '더': 12, '보고싶네요': 13, '글쎄요': 14, '별로예요': 15, '생각보다': 16, '지루하네요': 17, '연기가': 18, '어색해요': 19, '재미없어요': 20}\n",
            "\n",
            "리뷰 텍스트, 토큰화 결과:\n",
            " [[1, 2], [3], [4, 5, 6, 7], [8, 9, 10], [11, 12, 13], [14], [15], [16, 17], [18, 19], [20]]\n"
          ]
        }
      ]
    },
    {
      "cell_type": "code",
      "source": [
        "padded_x = pad_sequences(x, 4) # 동일 사이즈로 변환\n",
        "print(\"\\n 패딩 결과:\\n\", padded_x)\n",
        "print(\"\\n딥러닝 모델 시작:\")\n",
        "word_size = len(token.word_index) +1 # 전체 워드 사이즈\n",
        "model = Sequential()\n",
        "model.add(Embedding(word_size, 8, input_length=4)) # vectorizing함\n",
        "# 임베딩 -> vector로 변환 -> 1차원으로 FFNN으로 입력\n",
        "model.add(Flatten()) # 2차원 vector가 1차원 변환\n",
        "model.add(Dense(1, activation='sigmoid')) # 예측\n",
        "model.compile(optimizer='adam', loss='binary_crossentropy', metrics=['accuracy'])\n",
        "model.fit(padded_x, classes, epochs=20)\n",
        "print(\"\\n Accuracy: %.4f\" % (model.evaluate(padded_x, classes)[1]))"
      ],
      "metadata": {
        "colab": {
          "base_uri": "https://localhost:8080/"
        },
        "id": "gvWc5hPuuPvX",
        "outputId": "961f8289-7904-434c-bda5-0c5f9d77d517"
      },
      "execution_count": 62,
      "outputs": [
        {
          "output_type": "stream",
          "name": "stdout",
          "text": [
            "\n",
            " 패딩 결과:\n",
            " [[ 0  0  1  2]\n",
            " [ 0  0  0  3]\n",
            " [ 4  5  6  7]\n",
            " [ 0  8  9 10]\n",
            " [ 0 11 12 13]\n",
            " [ 0  0  0 14]\n",
            " [ 0  0  0 15]\n",
            " [ 0  0 16 17]\n",
            " [ 0  0 18 19]\n",
            " [ 0  0  0 20]]\n",
            "\n",
            "딥러닝 모델 시작:\n",
            "Epoch 1/20\n",
            "1/1 [==============================] - 0s 439ms/step - loss: 0.6922 - accuracy: 0.5000\n",
            "Epoch 2/20\n",
            "1/1 [==============================] - 0s 17ms/step - loss: 0.6904 - accuracy: 0.5000\n",
            "Epoch 3/20\n",
            "1/1 [==============================] - 0s 11ms/step - loss: 0.6886 - accuracy: 0.5000\n",
            "Epoch 4/20\n",
            "1/1 [==============================] - 0s 8ms/step - loss: 0.6869 - accuracy: 0.5000\n",
            "Epoch 5/20\n",
            "1/1 [==============================] - 0s 10ms/step - loss: 0.6851 - accuracy: 0.6000\n",
            "Epoch 6/20\n",
            "1/1 [==============================] - 0s 8ms/step - loss: 0.6833 - accuracy: 0.6000\n",
            "Epoch 7/20\n",
            "1/1 [==============================] - 0s 10ms/step - loss: 0.6816 - accuracy: 0.6000\n",
            "Epoch 8/20\n",
            "1/1 [==============================] - 0s 9ms/step - loss: 0.6798 - accuracy: 0.6000\n",
            "Epoch 9/20\n",
            "1/1 [==============================] - 0s 9ms/step - loss: 0.6780 - accuracy: 0.8000\n",
            "Epoch 10/20\n",
            "1/1 [==============================] - 0s 9ms/step - loss: 0.6763 - accuracy: 0.8000\n",
            "Epoch 11/20\n",
            "1/1 [==============================] - 0s 8ms/step - loss: 0.6745 - accuracy: 0.8000\n",
            "Epoch 12/20\n",
            "1/1 [==============================] - 0s 8ms/step - loss: 0.6727 - accuracy: 0.9000\n",
            "Epoch 13/20\n",
            "1/1 [==============================] - 0s 10ms/step - loss: 0.6709 - accuracy: 0.9000\n",
            "Epoch 14/20\n",
            "1/1 [==============================] - 0s 9ms/step - loss: 0.6692 - accuracy: 0.9000\n",
            "Epoch 15/20\n",
            "1/1 [==============================] - 0s 9ms/step - loss: 0.6674 - accuracy: 0.9000\n",
            "Epoch 16/20\n",
            "1/1 [==============================] - 0s 11ms/step - loss: 0.6655 - accuracy: 0.9000\n",
            "Epoch 17/20\n",
            "1/1 [==============================] - 0s 8ms/step - loss: 0.6637 - accuracy: 0.9000\n",
            "Epoch 18/20\n",
            "1/1 [==============================] - 0s 9ms/step - loss: 0.6619 - accuracy: 0.9000\n",
            "Epoch 19/20\n",
            "1/1 [==============================] - 0s 11ms/step - loss: 0.6601 - accuracy: 0.9000\n",
            "Epoch 20/20\n",
            "1/1 [==============================] - 0s 10ms/step - loss: 0.6582 - accuracy: 0.9000\n",
            "1/1 [==============================] - 0s 103ms/step - loss: 0.6564 - accuracy: 0.9000\n",
            "\n",
            " Accuracy: 0.9000\n"
          ]
        }
      ]
    },
    {
      "cell_type": "code",
      "source": [
        "# RNN 이해 -> LSTM(long short term memory)을 사용\n",
        "# - 기울기 vanishing(소실 문제가 해결)"
      ],
      "metadata": {
        "id": "N5Kt0kocu1Gl"
      },
      "execution_count": 63,
      "outputs": []
    },
    {
      "cell_type": "code",
      "source": [
        "from tensorflow.keras.models import Sequential\n",
        "from tensorflow.keras.layers import Dense,LSTM,Embedding\n",
        "model = Sequential()\n",
        "model.add(Embedding(1000, 100))\n",
        "model.add(LSTM(100, activation='tanh'))\n",
        "model.add(Dense(46, activation='softmax'))\n",
        "model.compile(loss='categorical_crossentropy',\n",
        "              optimizer = 'adam',\n",
        "              metrics=['accuracy'])\n",
        "history = model.fit(X_train, Y_train, batch_size=100, epochs=20, validation_data=(X_test, Y_test)) ## epochs=20"
      ],
      "metadata": {
        "colab": {
          "base_uri": "https://localhost:8080/"
        },
        "id": "R1ZNFbAZzma4",
        "outputId": "133d7526-ed88-4ac5-e489-f86685192887"
      },
      "execution_count": 64,
      "outputs": [
        {
          "output_type": "stream",
          "name": "stdout",
          "text": [
            "Epoch 1/20\n",
            "90/90 [==============================] - 8s 62ms/step - loss: 2.5766 - accuracy: 0.3486 - val_loss: 2.4206 - val_accuracy: 0.3620\n",
            "Epoch 2/20\n",
            "90/90 [==============================] - 5s 55ms/step - loss: 2.4129 - accuracy: 0.3517 - val_loss: 2.4210 - val_accuracy: 0.3620\n",
            "Epoch 3/20\n",
            "90/90 [==============================] - 5s 55ms/step - loss: 2.4102 - accuracy: 0.3517 - val_loss: 2.4150 - val_accuracy: 0.3620\n",
            "Epoch 4/20\n",
            "90/90 [==============================] - 5s 57ms/step - loss: 2.4097 - accuracy: 0.3517 - val_loss: 2.4207 - val_accuracy: 0.3620\n",
            "Epoch 5/20\n",
            "90/90 [==============================] - 5s 59ms/step - loss: 2.4075 - accuracy: 0.3517 - val_loss: 2.4135 - val_accuracy: 0.3620\n",
            "Epoch 6/20\n",
            "90/90 [==============================] - 5s 57ms/step - loss: 2.3987 - accuracy: 0.3517 - val_loss: 2.4159 - val_accuracy: 0.3620\n",
            "Epoch 7/20\n",
            "90/90 [==============================] - 5s 59ms/step - loss: 2.3885 - accuracy: 0.3537 - val_loss: 2.3885 - val_accuracy: 0.3642\n",
            "Epoch 8/20\n",
            "90/90 [==============================] - 5s 57ms/step - loss: 2.3566 - accuracy: 0.3592 - val_loss: 2.3544 - val_accuracy: 0.3713\n",
            "Epoch 9/20\n",
            "90/90 [==============================] - 5s 57ms/step - loss: 2.2824 - accuracy: 0.3664 - val_loss: 2.2670 - val_accuracy: 0.3807\n",
            "Epoch 10/20\n",
            "90/90 [==============================] - 5s 58ms/step - loss: 2.2526 - accuracy: 0.3744 - val_loss: 2.2515 - val_accuracy: 0.3865\n",
            "Epoch 11/20\n",
            "90/90 [==============================] - 5s 57ms/step - loss: 2.2384 - accuracy: 0.3820 - val_loss: 2.2363 - val_accuracy: 0.3869\n",
            "Epoch 12/20\n",
            "90/90 [==============================] - 5s 58ms/step - loss: 2.2309 - accuracy: 0.3855 - val_loss: 2.2348 - val_accuracy: 0.3927\n",
            "Epoch 13/20\n",
            "90/90 [==============================] - 5s 59ms/step - loss: 2.2310 - accuracy: 0.3841 - val_loss: 2.2263 - val_accuracy: 0.3972\n",
            "Epoch 14/20\n",
            "90/90 [==============================] - 5s 58ms/step - loss: 2.2265 - accuracy: 0.3838 - val_loss: 2.1980 - val_accuracy: 0.4118\n",
            "Epoch 15/20\n",
            "90/90 [==============================] - 5s 59ms/step - loss: 2.1648 - accuracy: 0.4215 - val_loss: 2.1309 - val_accuracy: 0.4573\n",
            "Epoch 16/20\n",
            "90/90 [==============================] - 5s 59ms/step - loss: 2.1128 - accuracy: 0.4545 - val_loss: 2.1162 - val_accuracy: 0.4581\n",
            "Epoch 17/20\n",
            "90/90 [==============================] - 5s 59ms/step - loss: 2.1023 - accuracy: 0.4575 - val_loss: 2.1112 - val_accuracy: 0.4599\n",
            "Epoch 18/20\n",
            "90/90 [==============================] - 5s 60ms/step - loss: 2.0961 - accuracy: 0.4540 - val_loss: 2.1075 - val_accuracy: 0.4626\n",
            "Epoch 19/20\n",
            "90/90 [==============================] - 5s 60ms/step - loss: 2.0879 - accuracy: 0.4581 - val_loss: 2.1212 - val_accuracy: 0.4492\n",
            "Epoch 20/20\n",
            "90/90 [==============================] - 5s 60ms/step - loss: 2.0966 - accuracy: 0.4545 - val_loss: 2.1045 - val_accuracy: 0.4608\n"
          ]
        }
      ]
    },
    {
      "cell_type": "code",
      "source": [
        "print(\"\\n Test Accuracy: %.4f\" % (model.evaluate(X_test, Y_test)[1]))\n",
        "y_vloss = history.history['val_loss']\n",
        "y_loss = history.history['loss']\n",
        "x_len = numpy.arange(len(y_loss))\n",
        "plt.plot(x_len, y_vloss, marker='.', c=\"red\", label=\"Testset_loss\")\n",
        "plt.plot(x_len, y_loss, marker='.', c=\"blue\", label=\"Trainset_loss\")\n",
        "plt.legend(loc='upper right')\n",
        "plt.grid()\n",
        "plt.xlabel('epoch')\n",
        "plt.ylabel('loss')\n",
        "plt.show()"
      ],
      "metadata": {
        "colab": {
          "base_uri": "https://localhost:8080/",
          "height": 338
        },
        "id": "1FPNP0VO0HO8",
        "outputId": "66bfde0c-56c7-464b-a3d3-f5b2c04f43ad"
      },
      "execution_count": 65,
      "outputs": [
        {
          "output_type": "stream",
          "name": "stdout",
          "text": [
            "71/71 [==============================] - 1s 15ms/step - loss: 2.1045 - accuracy: 0.4608\n",
            "\n",
            " Test Accuracy: 0.4608\n"
          ]
        },
        {
          "output_type": "display_data",
          "data": {
            "text/plain": [
              "<Figure size 432x288 with 1 Axes>"
            ],
            "image/png": "[encoded data removed]"
          },
          "metadata": {
            "needs_background": "light"
          }
        }
      ]
    },
    {
      "cell_type": "markdown",
      "source": [
        "# LSTM 16:00\n",
        "- IMDB (internet moview Database) : 25000개의 리뷰 학습\n",
        "- 영화관련정보, 출연진 정보, 개봉정보, 영화 후기, 평점\n",
        "- 긍정 부정 분류\n",
        "- convolution -> Conv1D(텍스트), Conv2D(이미지), Conv3D(영화)"
      ],
      "metadata": {
        "id": "T2_BsYY-3o3D"
      }
    },
    {
      "cell_type": "code",
      "source": [
        "from tensorflow.keras.datasets import imdb\n",
        "from tensorflow.keras.layers import Embedding\n",
        "from tensorflow.keras.layers import LSTM\n",
        "from tensorflow.keras.layers import Conv1D, MaxPooling1D\n",
        "from tensorflow.keras.preprocessing import sequence\n",
        "import numpy\n",
        "import tensorflow as tf\n",
        "import matplotlib.pyplot as plt"
      ],
      "metadata": {
        "id": "A2Ou036k29BZ"
      },
      "execution_count": 66,
      "outputs": []
    },
    {
      "cell_type": "code",
      "source": [
        "seed = 0\n",
        "numpy.random.seed(seed)\n",
        "tf.random.set_seed(3)\n",
        "# 1개의 영화평이 5000이상 안 됨\n",
        "(x_train, y_train), (x_test, y_test) = imdb.load_data(num_words=5000)\n",
        "x_train = sequence.pad_sequences(x_train, maxlen=100) # 100개의 단어로\n",
        "x_test = sequence.pad_sequences(x_test, maxlen=100)"
      ],
      "metadata": {
        "colab": {
          "base_uri": "https://localhost:8080/"
        },
        "id": "O_sV7VU34Yx2",
        "outputId": "cdf511bf-41dd-471c-aa1a-38fcb1d08767"
      },
      "execution_count": 67,
      "outputs": [
        {
          "output_type": "stream",
          "name": "stdout",
          "text": [
            "Downloading data from https://storage.googleapis.com/tensorflow/tf-keras-datasets/imdb.npz\n",
            "17464789/17464789 [==============================] - 0s 0us/step\n"
          ]
        }
      ]
    },
    {
      "cell_type": "code",
      "source": [
        "# 문장 -> vectorizing -> document vector -> \n",
        "x_train[0]"
      ],
      "metadata": {
        "colab": {
          "base_uri": "https://localhost:8080/"
        },
        "id": "dvsQ5DW_9ksv",
        "outputId": "74183dce-dfd9-4da0-e87b-9c9df16e9f9b"
      },
      "execution_count": 68,
      "outputs": [
        {
          "output_type": "execute_result",
          "data": {
            "text/plain": [
              "array([1415,   33,    6,   22,   12,  215,   28,   77,   52,    5,   14,\n",
              "        407,   16,   82,    2,    8,    4,  107,  117,    2,   15,  256,\n",
              "          4,    2,    7, 3766,    5,  723,   36,   71,   43,  530,  476,\n",
              "         26,  400,  317,   46,    7,    4,    2, 1029,   13,  104,   88,\n",
              "          4,  381,   15,  297,   98,   32, 2071,   56,   26,  141,    6,\n",
              "        194,    2,   18,    4,  226,   22,   21,  134,  476,   26,  480,\n",
              "          5,  144,   30,    2,   18,   51,   36,   28,  224,   92,   25,\n",
              "        104,    4,  226,   65,   16,   38, 1334,   88,   12,   16,  283,\n",
              "          5,   16, 4472,  113,  103,   32,   15,   16,    2,   19,  178,\n",
              "         32], dtype=int32)"
            ]
          },
          "metadata": {},
          "execution_count": 68
        }
      ]
    },
    {
      "cell_type": "code",
      "source": [
        "model = Sequential()\n",
        "model.add(Embedding(5000, 100)) # 100개의 벡터로 표현\n",
        "model.add(Dropout(0, 5)) # 과적합 줄이기 위해 계산 생략\n",
        "# 채널수 -> 특징을 몇 번 잡는가?\n",
        "# 주변의 5개를 보고 적분으로 특징을 잡아낸다.\n",
        "# 나는 학교에 옆집 친구하고 아침 7시에 출발해서 8시에 도착한다.\n",
        "# 1, 2\n",
        "# 9-5 + 1 => 5개의 특징을 잡아낸다.\n",
        "# same => padding, valid는 패딩을 하지 않고 계산 사이즈대로 출력 => 5개가 출력된다 \n",
        "## 16:38\n",
        "model.add(Conv1D(64, 5, padding='valid', activation='relu', strides=1))\n",
        "model.add(MaxPooling1D(pool_size=4))\n",
        "model.add(LSTM(55)) # 55개의 사이즈로 출력\n",
        "model.add(Dense(1)) # 55 X 1개로 예측을 함\n",
        "model.add(Activation('sigmoid')) ## sigmoid니까 # 0.5를 기준으로 TRUE/FALSE ## 16:40\n",
        "model.summary()"
      ],
      "metadata": {
        "colab": {
          "base_uri": "https://localhost:8080/"
        },
        "id": "HScvA1994sii",
        "outputId": "52ff46fc-5c9e-44a4-b94f-08835fcb7637"
      },
      "execution_count": 69,
      "outputs": [
        {
          "output_type": "stream",
          "name": "stdout",
          "text": [
            "Model: \"sequential_6\"\n",
            "_________________________________________________________________\n",
            " Layer (type)                Output Shape              Param #   \n",
            "=================================================================\n",
            " embedding_3 (Embedding)     (None, None, 100)         500000    \n",
            "                                                                 \n",
            " dropout_3 (Dropout)         (None, None, 100)         0         \n",
            "                                                                 \n",
            " conv1d (Conv1D)             (None, None, 64)          32064     \n",
            "                                                                 \n",
            " max_pooling1d (MaxPooling1D  (None, None, 64)         0         \n",
            " )                                                               \n",
            "                                                                 \n",
            " lstm_1 (LSTM)               (None, 55)                26400     \n",
            "                                                                 \n",
            " dense_9 (Dense)             (None, 1)                 56        \n",
            "                                                                 \n",
            " activation_3 (Activation)   (None, 1)                 0         \n",
            "                                                                 \n",
            "=================================================================\n",
            "Total params: 558,520\n",
            "Trainable params: 558,520\n",
            "Non-trainable params: 0\n",
            "_________________________________________________________________\n"
          ]
        }
      ]
    },
    {
      "cell_type": "code",
      "source": [
        "model.compile(loss='binary_crossentropy', optimizer='adam', metrics=['accuracy'])\n",
        "#history = model.fit(x_train, y_train, batch_size=100, epochs=5, \n",
        "#                    validation_data=(x_test, y_test))\n",
        "print(\"\\n Test Accuracy: %.4f\" % (model.evaluate(x_test, y_test)[1]))"
      ],
      "metadata": {
        "colab": {
          "base_uri": "https://localhost:8080/"
        },
        "id": "XRn-IGup5KHC",
        "outputId": "905e26a7-49b4-44c0-80d5-03377d73e787"
      },
      "execution_count": 72,
      "outputs": [
        {
          "output_type": "stream",
          "name": "stdout",
          "text": [
            "782/782 [==============================] - 3s 3ms/step - loss: 0.6933 - accuracy: 0.4910\n",
            "\n",
            " Test Accuracy: 0.4910\n"
          ]
        }
      ]
    },
    {
      "cell_type": "code",
      "source": [
        "##17:00\n",
        "print(type(x_train))\n",
        "print(x_train.shape)\n",
        "print(x_train[20001])\n",
        "print(type(x_train[20000]))\n",
        "print(y_train[1])\n",
        "# 단어에 대한 인덱싱\n",
        "dictionary=imdb.get_word_index(path='imdb_word_index.json') # 키이 : 데이터\n",
        "print(type(dictionary)) # dictionary형태\n",
        "print(len(dictionary)) # 88584개의 단어로 구성\n",
        "imdb_key=dictionary.keys()\n",
        "print(type(imdb_key))\n",
        "\n",
        "print(list(imdb_key)[10]) # tsukino 단어 출력\n",
        "list(imdb_key)[1]\n",
        "keytotal=list(imdb_key)\n",
        "sentance = []\n",
        "for x, num in enumerate(x_train[10]):\n",
        "  res = keytotal[x]\n",
        "  sentance.append(res)\n",
        "print(sentance)"
      ],
      "metadata": {
        "colab": {
          "base_uri": "https://localhost:8080/"
        },
        "id": "xpD3i0Ca5voR",
        "outputId": "211f98d5-8798-41e8-9e58-cb81b442f275"
      },
      "execution_count": 71,
      "outputs": [
        {
          "output_type": "stream",
          "name": "stdout",
          "text": [
            "<class 'numpy.ndarray'>\n",
            "(25000, 100)\n",
            "[  87   51  575   36   26  502    8   79  101  156    5 1507   36  181\n",
            "    4  118    7   68   58   21  820  910 1030    8    2  183   56   11\n",
            " 2716    7   68    2 4697   10   10  910   70 4146    4  118  927    4\n",
            "  118 1180    5  907   21  131   36    2  183   56   14   20    9  595\n",
            "    4  619  155    9   15   13 1781  910   11   68    2  127   24   60\n",
            "  124   54    6   20    9   52   42   78   10   10   12    9   64  688\n",
            "    8    4  676    7    4  156   15   13   70   60  202   12    6  342\n",
            "    7  158]\n",
            "<class 'numpy.ndarray'>\n",
            "0\n",
            "Downloading data from https://storage.googleapis.com/tensorflow/tf-keras-datasets/imdb_word_index.json\n",
            "1641221/1641221 [==============================] - 0s 0us/step\n",
            "<class 'dict'>\n",
            "88584\n",
            "<class 'dict_keys'>\n",
            "hold's\n",
            "['fawn', 'tsukino', 'nunnery', 'sonja', 'vani', 'woods', 'spiders', 'hanging', 'woody', 'trawling', \"hold's\", 'comically', 'localized', 'disobeying', \"'royale\", \"harpo's\", 'canet', 'aileen', 'acurately', \"diplomat's\", 'rickman', 'arranged', 'rumbustious', 'familiarness', \"spider'\", 'hahahah', \"wood'\", 'transvestism', \"hangin'\", 'bringing', 'seamier', 'wooded', 'bravora', 'grueling', 'wooden', 'wednesday', \"'prix\", 'altagracia', 'circuitry', 'crotch', 'busybody', \"tart'n'tangy\", 'burgade', 'thrace', \"tom's\", 'snuggles', 'francesco', 'complainers', 'templarios', '272', '273', 'zaniacs', '275', 'consenting', 'snuggled', 'inanimate', 'uality', 'bronte', 'errors', 'dialogs', \"yomada's\", \"madman's\", 'dialoge', 'usenet', 'videodrome', \"kid'\", 'pawed', \"'girlfriend'\", \"'pleasure\", \"'reloaded'\", \"kazakos'\", 'rocque', 'mailings', 'brainwashed', 'mcanally', \"tom''\", 'kurupt', 'affiliated', 'babaganoosh', \"noe's\", 'quart', 'kids', 'uplifting', 'controversy', 'kida', 'kidd', \"error'\", 'neurologist', 'spotty', 'cobblers', 'projection', 'fastforwarding', 'sters', \"eggar's\", 'etherything', 'gateshead', 'airball', 'unsinkable', 'stern', \"cervi's\"]\n"
          ]
        }
      ]
    },
    {
      "cell_type": "code",
      "source": [],
      "metadata": {
        "id": "ksRCn2fh9AOb"
      },
      "execution_count": null,
      "outputs": []
    }
  ],
  "metadata": {
    "accelerator": "GPU",
    "colab": {
      "provenance": [],
      "collapsed_sections": [],
      "mount_file_id": "1LqENlhkoJmOipdB6seHGGFumUbbCdBvQ",
      "authorship_tag": "ABX9TyP5HUz+8E+0ZtuGjJFx6BQx",
      "include_colab_link": true
    },
    "kernelspec": {
      "display_name": "Python 3",
      "name": "python3"
    },
    "language_info": {
      "name": "python"
    }
  },
  "nbformat": 4,
  "nbformat_minor": 0
}